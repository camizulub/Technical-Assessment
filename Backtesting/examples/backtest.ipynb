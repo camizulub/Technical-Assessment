{
 "cells": [
  {
   "cell_type": "code",
   "execution_count": 1,
   "metadata": {},
   "outputs": [],
   "source": [
    "import os\n",
    "import pandas as pd"
   ]
  },
  {
   "cell_type": "markdown",
   "metadata": {},
   "source": [
    "# Downloading Data"
   ]
  },
  {
   "cell_type": "code",
   "execution_count": 2,
   "metadata": {},
   "outputs": [],
   "source": [
    "project_root = r\"../../../../alphinity-aisys\"\n",
    "os.chdir(project_root)\n",
    "from src.connections.microsoft_sql import SQLDatabase\n",
    "db = SQLDatabase()"
   ]
  },
  {
   "cell_type": "code",
   "execution_count": 3,
   "metadata": {},
   "outputs": [
    {
     "data": {
      "text/html": [
       "<div>\n",
       "<style scoped>\n",
       "    .dataframe tbody tr th:only-of-type {\n",
       "        vertical-align: middle;\n",
       "    }\n",
       "\n",
       "    .dataframe tbody tr th {\n",
       "        vertical-align: top;\n",
       "    }\n",
       "\n",
       "    .dataframe thead th {\n",
       "        text-align: right;\n",
       "    }\n",
       "</style>\n",
       "<table border=\"1\" class=\"dataframe\">\n",
       "  <thead>\n",
       "    <tr style=\"text-align: right;\">\n",
       "      <th></th>\n",
       "      <th>datetime_est_10mins</th>\n",
       "      <th>strategy_name</th>\n",
       "      <th>signal</th>\n",
       "      <th>position</th>\n",
       "    </tr>\n",
       "  </thead>\n",
       "  <tbody>\n",
       "    <tr>\n",
       "      <th>63</th>\n",
       "      <td>2025-02-24 00:00:00</td>\n",
       "      <td>agent_v5</td>\n",
       "      <td>1.0</td>\n",
       "      <td>0.3</td>\n",
       "    </tr>\n",
       "    <tr>\n",
       "      <th>50</th>\n",
       "      <td>2025-02-24 00:20:00</td>\n",
       "      <td>agent_v5</td>\n",
       "      <td>0.0</td>\n",
       "      <td>0.3</td>\n",
       "    </tr>\n",
       "    <tr>\n",
       "      <th>274</th>\n",
       "      <td>2025-02-24 00:30:00</td>\n",
       "      <td>agent_v5</td>\n",
       "      <td>0.0</td>\n",
       "      <td>0.3</td>\n",
       "    </tr>\n",
       "    <tr>\n",
       "      <th>257</th>\n",
       "      <td>2025-02-24 00:40:00</td>\n",
       "      <td>agent_v5</td>\n",
       "      <td>0.0</td>\n",
       "      <td>0.3</td>\n",
       "    </tr>\n",
       "    <tr>\n",
       "      <th>123</th>\n",
       "      <td>2025-02-24 01:00:00</td>\n",
       "      <td>agent_v5</td>\n",
       "      <td>0.0</td>\n",
       "      <td>0.3</td>\n",
       "    </tr>\n",
       "    <tr>\n",
       "      <th>...</th>\n",
       "      <td>...</td>\n",
       "      <td>...</td>\n",
       "      <td>...</td>\n",
       "      <td>...</td>\n",
       "    </tr>\n",
       "    <tr>\n",
       "      <th>55</th>\n",
       "      <td>2025-02-25 23:10:00</td>\n",
       "      <td>agent_v5</td>\n",
       "      <td>1.0</td>\n",
       "      <td>0.3</td>\n",
       "    </tr>\n",
       "    <tr>\n",
       "      <th>11</th>\n",
       "      <td>2025-02-25 23:20:00</td>\n",
       "      <td>agent_v5</td>\n",
       "      <td>0.0</td>\n",
       "      <td>0.3</td>\n",
       "    </tr>\n",
       "    <tr>\n",
       "      <th>246</th>\n",
       "      <td>2025-02-25 23:30:00</td>\n",
       "      <td>agent_v5</td>\n",
       "      <td>1.0</td>\n",
       "      <td>0.4</td>\n",
       "    </tr>\n",
       "    <tr>\n",
       "      <th>238</th>\n",
       "      <td>2025-02-25 23:40:00</td>\n",
       "      <td>agent_v5</td>\n",
       "      <td>0.0</td>\n",
       "      <td>0.4</td>\n",
       "    </tr>\n",
       "    <tr>\n",
       "      <th>142</th>\n",
       "      <td>2025-02-25 23:50:00</td>\n",
       "      <td>agent_v5</td>\n",
       "      <td>-1.0</td>\n",
       "      <td>0.3</td>\n",
       "    </tr>\n",
       "  </tbody>\n",
       "</table>\n",
       "<p>276 rows × 4 columns</p>\n",
       "</div>"
      ],
      "text/plain": [
       "    datetime_est_10mins strategy_name  signal  position\n",
       "63  2025-02-24 00:00:00      agent_v5     1.0       0.3\n",
       "50  2025-02-24 00:20:00      agent_v5     0.0       0.3\n",
       "274 2025-02-24 00:30:00      agent_v5     0.0       0.3\n",
       "257 2025-02-24 00:40:00      agent_v5     0.0       0.3\n",
       "123 2025-02-24 01:00:00      agent_v5     0.0       0.3\n",
       "..                  ...           ...     ...       ...\n",
       "55  2025-02-25 23:10:00      agent_v5     1.0       0.3\n",
       "11  2025-02-25 23:20:00      agent_v5     0.0       0.3\n",
       "246 2025-02-25 23:30:00      agent_v5     1.0       0.4\n",
       "238 2025-02-25 23:40:00      agent_v5     0.0       0.4\n",
       "142 2025-02-25 23:50:00      agent_v5    -1.0       0.3\n",
       "\n",
       "[276 rows x 4 columns]"
      ]
     },
     "execution_count": 3,
     "metadata": {},
     "output_type": "execute_result"
    }
   ],
   "source": [
    "data_signals = db.read(\"SELECT * FROM Silver.btc_strategies;\")\n",
    "# Please check the data since is comming unordered and with some jumps in the datetime\n",
    "data_signals.sort_values(by=\"datetime_est\", inplace=True)\n",
    "data_signals = data_signals.rename(columns={\"datetime_est\": \"datetime_est_10mins\"})\n",
    "data_signals.drop(columns=[\"uuid\"], inplace=True)\n",
    "data_signals"
   ]
  },
  {
   "cell_type": "code",
   "execution_count": 4,
   "metadata": {},
   "outputs": [
    {
     "data": {
      "text/html": [
       "<div>\n",
       "<style scoped>\n",
       "    .dataframe tbody tr th:only-of-type {\n",
       "        vertical-align: middle;\n",
       "    }\n",
       "\n",
       "    .dataframe tbody tr th {\n",
       "        vertical-align: top;\n",
       "    }\n",
       "\n",
       "    .dataframe thead th {\n",
       "        text-align: right;\n",
       "    }\n",
       "</style>\n",
       "<table border=\"1\" class=\"dataframe\">\n",
       "  <thead>\n",
       "    <tr style=\"text-align: right;\">\n",
       "      <th></th>\n",
       "      <th>datetime_est_10mins</th>\n",
       "      <th>open</th>\n",
       "      <th>high</th>\n",
       "      <th>low</th>\n",
       "      <th>close</th>\n",
       "      <th>volume</th>\n",
       "    </tr>\n",
       "  </thead>\n",
       "  <tbody>\n",
       "    <tr>\n",
       "      <th>7198</th>\n",
       "      <td>2024-10-01 00:10:00</td>\n",
       "      <td>63730.09</td>\n",
       "      <td>63730.09</td>\n",
       "      <td>63631.95</td>\n",
       "      <td>63631.95</td>\n",
       "      <td>33.85</td>\n",
       "    </tr>\n",
       "    <tr>\n",
       "      <th>15210</th>\n",
       "      <td>2024-10-01 00:20:00</td>\n",
       "      <td>63668.17</td>\n",
       "      <td>63726.81</td>\n",
       "      <td>63668.17</td>\n",
       "      <td>63726.81</td>\n",
       "      <td>31.70</td>\n",
       "    </tr>\n",
       "    <tr>\n",
       "      <th>18835</th>\n",
       "      <td>2024-10-01 00:30:00</td>\n",
       "      <td>63724.91</td>\n",
       "      <td>63777.17</td>\n",
       "      <td>63724.91</td>\n",
       "      <td>63777.17</td>\n",
       "      <td>44.24</td>\n",
       "    </tr>\n",
       "    <tr>\n",
       "      <th>9989</th>\n",
       "      <td>2024-10-01 00:40:00</td>\n",
       "      <td>63787.09</td>\n",
       "      <td>63787.09</td>\n",
       "      <td>63760.77</td>\n",
       "      <td>63760.77</td>\n",
       "      <td>23.22</td>\n",
       "    </tr>\n",
       "    <tr>\n",
       "      <th>13467</th>\n",
       "      <td>2024-10-01 00:50:00</td>\n",
       "      <td>63769.36</td>\n",
       "      <td>63782.96</td>\n",
       "      <td>63769.36</td>\n",
       "      <td>63782.96</td>\n",
       "      <td>33.78</td>\n",
       "    </tr>\n",
       "    <tr>\n",
       "      <th>...</th>\n",
       "      <td>...</td>\n",
       "      <td>...</td>\n",
       "      <td>...</td>\n",
       "      <td>...</td>\n",
       "      <td>...</td>\n",
       "      <td>...</td>\n",
       "    </tr>\n",
       "    <tr>\n",
       "      <th>19952</th>\n",
       "      <td>2025-04-21 15:20:00</td>\n",
       "      <td>87213.74</td>\n",
       "      <td>87315.01</td>\n",
       "      <td>87197.14</td>\n",
       "      <td>87307.13</td>\n",
       "      <td>53.99</td>\n",
       "    </tr>\n",
       "    <tr>\n",
       "      <th>11219</th>\n",
       "      <td>2025-04-21 15:30:00</td>\n",
       "      <td>87307.13</td>\n",
       "      <td>87449.43</td>\n",
       "      <td>87261.61</td>\n",
       "      <td>87422.30</td>\n",
       "      <td>83.38</td>\n",
       "    </tr>\n",
       "    <tr>\n",
       "      <th>418</th>\n",
       "      <td>2025-04-21 15:40:00</td>\n",
       "      <td>87421.96</td>\n",
       "      <td>87425.17</td>\n",
       "      <td>87252.85</td>\n",
       "      <td>87302.04</td>\n",
       "      <td>56.47</td>\n",
       "    </tr>\n",
       "    <tr>\n",
       "      <th>16098</th>\n",
       "      <td>2025-04-21 15:50:00</td>\n",
       "      <td>87312.97</td>\n",
       "      <td>87475.18</td>\n",
       "      <td>87270.73</td>\n",
       "      <td>87475.18</td>\n",
       "      <td>112.52</td>\n",
       "    </tr>\n",
       "    <tr>\n",
       "      <th>28224</th>\n",
       "      <td>2025-04-21 16:00:00</td>\n",
       "      <td>87391.69</td>\n",
       "      <td>87391.69</td>\n",
       "      <td>87307.58</td>\n",
       "      <td>87307.81</td>\n",
       "      <td>40.92</td>\n",
       "    </tr>\n",
       "  </tbody>\n",
       "</table>\n",
       "<p>29178 rows × 6 columns</p>\n",
       "</div>"
      ],
      "text/plain": [
       "      datetime_est_10mins      open      high       low     close  volume\n",
       "7198  2024-10-01 00:10:00  63730.09  63730.09  63631.95  63631.95   33.85\n",
       "15210 2024-10-01 00:20:00  63668.17  63726.81  63668.17  63726.81   31.70\n",
       "18835 2024-10-01 00:30:00  63724.91  63777.17  63724.91  63777.17   44.24\n",
       "9989  2024-10-01 00:40:00  63787.09  63787.09  63760.77  63760.77   23.22\n",
       "13467 2024-10-01 00:50:00  63769.36  63782.96  63769.36  63782.96   33.78\n",
       "...                   ...       ...       ...       ...       ...     ...\n",
       "19952 2025-04-21 15:20:00  87213.74  87315.01  87197.14  87307.13   53.99\n",
       "11219 2025-04-21 15:30:00  87307.13  87449.43  87261.61  87422.30   83.38\n",
       "418   2025-04-21 15:40:00  87421.96  87425.17  87252.85  87302.04   56.47\n",
       "16098 2025-04-21 15:50:00  87312.97  87475.18  87270.73  87475.18  112.52\n",
       "28224 2025-04-21 16:00:00  87391.69  87391.69  87307.58  87307.81   40.92\n",
       "\n",
       "[29178 rows x 6 columns]"
      ]
     },
     "execution_count": 4,
     "metadata": {},
     "output_type": "execute_result"
    }
   ],
   "source": [
    "# Adding the market data\n",
    "data_market = db.read(\"SELECT * FROM Silver.btc_market_data;\")\n",
    "# Please check the data since is comming unordered\n",
    "data_market.sort_values(by=\"datetime_est\", inplace=True)\n",
    "data_market.rename(columns={\"datetime_est\": \"datetime_est_10mins\"}, inplace=True)\n",
    "data_market"
   ]
  },
  {
   "cell_type": "code",
   "execution_count": 5,
   "metadata": {},
   "outputs": [
    {
     "data": {
      "text/plain": [
       "array(['agent_v5'], dtype=object)"
      ]
     },
     "execution_count": 5,
     "metadata": {},
     "output_type": "execute_result"
    }
   ],
   "source": [
    "data_signals['strategy_name'].unique()"
   ]
  },
  {
   "cell_type": "code",
   "execution_count": 6,
   "metadata": {},
   "outputs": [],
   "source": [
    "strategies = [\n",
    "    'agent_v5'\n",
    "    ]"
   ]
  },
  {
   "cell_type": "code",
   "execution_count": 7,
   "metadata": {},
   "outputs": [
    {
     "data": {
      "text/html": [
       "<div>\n",
       "<style scoped>\n",
       "    .dataframe tbody tr th:only-of-type {\n",
       "        vertical-align: middle;\n",
       "    }\n",
       "\n",
       "    .dataframe tbody tr th {\n",
       "        vertical-align: top;\n",
       "    }\n",
       "\n",
       "    .dataframe thead th {\n",
       "        text-align: right;\n",
       "    }\n",
       "</style>\n",
       "<table border=\"1\" class=\"dataframe\">\n",
       "  <thead>\n",
       "    <tr style=\"text-align: right;\">\n",
       "      <th></th>\n",
       "      <th>datetime_est_10mins</th>\n",
       "      <th>close</th>\n",
       "      <th>signal</th>\n",
       "      <th>strategy_name</th>\n",
       "      <th>position</th>\n",
       "    </tr>\n",
       "  </thead>\n",
       "  <tbody>\n",
       "    <tr>\n",
       "      <th>0</th>\n",
       "      <td>2025-02-24 00:00:00</td>\n",
       "      <td>95439.81</td>\n",
       "      <td>0.0</td>\n",
       "      <td>agent_v5</td>\n",
       "      <td>0.0</td>\n",
       "    </tr>\n",
       "    <tr>\n",
       "      <th>1</th>\n",
       "      <td>2025-02-24 00:20:00</td>\n",
       "      <td>95539.14</td>\n",
       "      <td>1.0</td>\n",
       "      <td>agent_v5</td>\n",
       "      <td>0.3</td>\n",
       "    </tr>\n",
       "    <tr>\n",
       "      <th>2</th>\n",
       "      <td>2025-02-24 00:30:00</td>\n",
       "      <td>95751.10</td>\n",
       "      <td>0.0</td>\n",
       "      <td>agent_v5</td>\n",
       "      <td>0.3</td>\n",
       "    </tr>\n",
       "    <tr>\n",
       "      <th>3</th>\n",
       "      <td>2025-02-24 00:40:00</td>\n",
       "      <td>95727.74</td>\n",
       "      <td>0.0</td>\n",
       "      <td>agent_v5</td>\n",
       "      <td>0.3</td>\n",
       "    </tr>\n",
       "    <tr>\n",
       "      <th>4</th>\n",
       "      <td>2025-02-24 01:00:00</td>\n",
       "      <td>95766.65</td>\n",
       "      <td>0.0</td>\n",
       "      <td>agent_v5</td>\n",
       "      <td>0.3</td>\n",
       "    </tr>\n",
       "    <tr>\n",
       "      <th>5</th>\n",
       "      <td>2025-02-24 01:10:00</td>\n",
       "      <td>95679.36</td>\n",
       "      <td>0.0</td>\n",
       "      <td>agent_v5</td>\n",
       "      <td>0.3</td>\n",
       "    </tr>\n",
       "    <tr>\n",
       "      <th>6</th>\n",
       "      <td>2025-02-24 01:20:00</td>\n",
       "      <td>95732.23</td>\n",
       "      <td>1.0</td>\n",
       "      <td>agent_v5</td>\n",
       "      <td>0.6</td>\n",
       "    </tr>\n",
       "    <tr>\n",
       "      <th>7</th>\n",
       "      <td>2025-02-24 01:30:00</td>\n",
       "      <td>95835.32</td>\n",
       "      <td>1.0</td>\n",
       "      <td>agent_v5</td>\n",
       "      <td>0.7</td>\n",
       "    </tr>\n",
       "    <tr>\n",
       "      <th>8</th>\n",
       "      <td>2025-02-24 01:40:00</td>\n",
       "      <td>95872.01</td>\n",
       "      <td>0.0</td>\n",
       "      <td>agent_v5</td>\n",
       "      <td>0.7</td>\n",
       "    </tr>\n",
       "    <tr>\n",
       "      <th>9</th>\n",
       "      <td>2025-02-24 01:50:00</td>\n",
       "      <td>95910.39</td>\n",
       "      <td>-1.0</td>\n",
       "      <td>agent_v5</td>\n",
       "      <td>0.3</td>\n",
       "    </tr>\n",
       "    <tr>\n",
       "      <th>10</th>\n",
       "      <td>2025-02-24 02:00:00</td>\n",
       "      <td>95915.28</td>\n",
       "      <td>1.0</td>\n",
       "      <td>agent_v5</td>\n",
       "      <td>0.6</td>\n",
       "    </tr>\n",
       "    <tr>\n",
       "      <th>11</th>\n",
       "      <td>2025-02-24 02:10:00</td>\n",
       "      <td>95820.10</td>\n",
       "      <td>-1.0</td>\n",
       "      <td>agent_v5</td>\n",
       "      <td>0.4</td>\n",
       "    </tr>\n",
       "    <tr>\n",
       "      <th>12</th>\n",
       "      <td>2025-02-24 02:20:00</td>\n",
       "      <td>95856.07</td>\n",
       "      <td>0.0</td>\n",
       "      <td>agent_v5</td>\n",
       "      <td>0.4</td>\n",
       "    </tr>\n",
       "    <tr>\n",
       "      <th>13</th>\n",
       "      <td>2025-02-24 02:30:00</td>\n",
       "      <td>95913.97</td>\n",
       "      <td>-1.0</td>\n",
       "      <td>agent_v5</td>\n",
       "      <td>0.3</td>\n",
       "    </tr>\n",
       "    <tr>\n",
       "      <th>14</th>\n",
       "      <td>2025-02-24 02:40:00</td>\n",
       "      <td>95842.45</td>\n",
       "      <td>1.0</td>\n",
       "      <td>agent_v5</td>\n",
       "      <td>0.8</td>\n",
       "    </tr>\n",
       "    <tr>\n",
       "      <th>15</th>\n",
       "      <td>2025-02-24 02:50:00</td>\n",
       "      <td>95927.55</td>\n",
       "      <td>-1.0</td>\n",
       "      <td>agent_v5</td>\n",
       "      <td>0.7</td>\n",
       "    </tr>\n",
       "    <tr>\n",
       "      <th>16</th>\n",
       "      <td>2025-02-24 03:00:00</td>\n",
       "      <td>95824.82</td>\n",
       "      <td>0.0</td>\n",
       "      <td>agent_v5</td>\n",
       "      <td>0.7</td>\n",
       "    </tr>\n",
       "    <tr>\n",
       "      <th>17</th>\n",
       "      <td>2025-02-24 03:10:00</td>\n",
       "      <td>95679.20</td>\n",
       "      <td>0.0</td>\n",
       "      <td>agent_v5</td>\n",
       "      <td>0.7</td>\n",
       "    </tr>\n",
       "    <tr>\n",
       "      <th>18</th>\n",
       "      <td>2025-02-24 03:20:00</td>\n",
       "      <td>95481.16</td>\n",
       "      <td>-1.0</td>\n",
       "      <td>agent_v5</td>\n",
       "      <td>0.3</td>\n",
       "    </tr>\n",
       "    <tr>\n",
       "      <th>19</th>\n",
       "      <td>2025-02-24 03:30:00</td>\n",
       "      <td>95534.17</td>\n",
       "      <td>-1.0</td>\n",
       "      <td>agent_v5</td>\n",
       "      <td>-0.3</td>\n",
       "    </tr>\n",
       "  </tbody>\n",
       "</table>\n",
       "</div>"
      ],
      "text/plain": [
       "   datetime_est_10mins     close  signal strategy_name  position\n",
       "0  2025-02-24 00:00:00  95439.81     0.0      agent_v5       0.0\n",
       "1  2025-02-24 00:20:00  95539.14     1.0      agent_v5       0.3\n",
       "2  2025-02-24 00:30:00  95751.10     0.0      agent_v5       0.3\n",
       "3  2025-02-24 00:40:00  95727.74     0.0      agent_v5       0.3\n",
       "4  2025-02-24 01:00:00  95766.65     0.0      agent_v5       0.3\n",
       "5  2025-02-24 01:10:00  95679.36     0.0      agent_v5       0.3\n",
       "6  2025-02-24 01:20:00  95732.23     1.0      agent_v5       0.6\n",
       "7  2025-02-24 01:30:00  95835.32     1.0      agent_v5       0.7\n",
       "8  2025-02-24 01:40:00  95872.01     0.0      agent_v5       0.7\n",
       "9  2025-02-24 01:50:00  95910.39    -1.0      agent_v5       0.3\n",
       "10 2025-02-24 02:00:00  95915.28     1.0      agent_v5       0.6\n",
       "11 2025-02-24 02:10:00  95820.10    -1.0      agent_v5       0.4\n",
       "12 2025-02-24 02:20:00  95856.07     0.0      agent_v5       0.4\n",
       "13 2025-02-24 02:30:00  95913.97    -1.0      agent_v5       0.3\n",
       "14 2025-02-24 02:40:00  95842.45     1.0      agent_v5       0.8\n",
       "15 2025-02-24 02:50:00  95927.55    -1.0      agent_v5       0.7\n",
       "16 2025-02-24 03:00:00  95824.82     0.0      agent_v5       0.7\n",
       "17 2025-02-24 03:10:00  95679.20     0.0      agent_v5       0.7\n",
       "18 2025-02-24 03:20:00  95481.16    -1.0      agent_v5       0.3\n",
       "19 2025-02-24 03:30:00  95534.17    -1.0      agent_v5      -0.3"
      ]
     },
     "execution_count": 7,
     "metadata": {},
     "output_type": "execute_result"
    }
   ],
   "source": [
    "# Merging the data\n",
    "data = data_signals.merge(data_market, on=\"datetime_est_10mins\", how=\"left\")\n",
    "signals_data = data.loc[:, [\"datetime_est_10mins\", \"close\", \"signal\", \"strategy_name\", \"position\"]]\n",
    "# Handling Oversight bias\n",
    "signals_data[\"signal\"] = signals_data[\"signal\"].shift(1)\n",
    "signals_data[\"position\"] = signals_data[\"position\"].shift(1)\n",
    "# Manually setting the first signal and position to 0\n",
    "signals_data.loc[0, [\"signal\", \"position\"]] = 0\n",
    "signals_data.loc[1, [\"signal\"]] = 1\n",
    "signals_data.dropna(inplace=True)\n",
    "signals_data.head(20)"
   ]
  },
  {
   "cell_type": "code",
   "execution_count": 8,
   "metadata": {},
   "outputs": [
    {
     "data": {
      "text/html": [
       "<div>\n",
       "<style scoped>\n",
       "    .dataframe tbody tr th:only-of-type {\n",
       "        vertical-align: middle;\n",
       "    }\n",
       "\n",
       "    .dataframe tbody tr th {\n",
       "        vertical-align: top;\n",
       "    }\n",
       "\n",
       "    .dataframe thead th {\n",
       "        text-align: right;\n",
       "    }\n",
       "</style>\n",
       "<table border=\"1\" class=\"dataframe\">\n",
       "  <thead>\n",
       "    <tr style=\"text-align: right;\">\n",
       "      <th></th>\n",
       "      <th>datetime_est_10mins</th>\n",
       "      <th>close</th>\n",
       "    </tr>\n",
       "  </thead>\n",
       "  <tbody>\n",
       "    <tr>\n",
       "      <th>0</th>\n",
       "      <td>2025-02-24 00:00:00</td>\n",
       "      <td>95439.81</td>\n",
       "    </tr>\n",
       "    <tr>\n",
       "      <th>1</th>\n",
       "      <td>2025-02-24 00:20:00</td>\n",
       "      <td>95539.14</td>\n",
       "    </tr>\n",
       "    <tr>\n",
       "      <th>2</th>\n",
       "      <td>2025-02-24 00:30:00</td>\n",
       "      <td>95751.10</td>\n",
       "    </tr>\n",
       "    <tr>\n",
       "      <th>3</th>\n",
       "      <td>2025-02-24 00:40:00</td>\n",
       "      <td>95727.74</td>\n",
       "    </tr>\n",
       "    <tr>\n",
       "      <th>4</th>\n",
       "      <td>2025-02-24 01:00:00</td>\n",
       "      <td>95766.65</td>\n",
       "    </tr>\n",
       "    <tr>\n",
       "      <th>...</th>\n",
       "      <td>...</td>\n",
       "      <td>...</td>\n",
       "    </tr>\n",
       "    <tr>\n",
       "      <th>271</th>\n",
       "      <td>2025-02-25 23:10:00</td>\n",
       "      <td>88985.70</td>\n",
       "    </tr>\n",
       "    <tr>\n",
       "      <th>272</th>\n",
       "      <td>2025-02-25 23:20:00</td>\n",
       "      <td>89164.98</td>\n",
       "    </tr>\n",
       "    <tr>\n",
       "      <th>273</th>\n",
       "      <td>2025-02-25 23:30:00</td>\n",
       "      <td>89137.56</td>\n",
       "    </tr>\n",
       "    <tr>\n",
       "      <th>274</th>\n",
       "      <td>2025-02-25 23:40:00</td>\n",
       "      <td>89028.69</td>\n",
       "    </tr>\n",
       "    <tr>\n",
       "      <th>275</th>\n",
       "      <td>2025-02-25 23:50:00</td>\n",
       "      <td>88694.57</td>\n",
       "    </tr>\n",
       "  </tbody>\n",
       "</table>\n",
       "<p>276 rows × 2 columns</p>\n",
       "</div>"
      ],
      "text/plain": [
       "    datetime_est_10mins     close\n",
       "0   2025-02-24 00:00:00  95439.81\n",
       "1   2025-02-24 00:20:00  95539.14\n",
       "2   2025-02-24 00:30:00  95751.10\n",
       "3   2025-02-24 00:40:00  95727.74\n",
       "4   2025-02-24 01:00:00  95766.65\n",
       "..                  ...       ...\n",
       "271 2025-02-25 23:10:00  88985.70\n",
       "272 2025-02-25 23:20:00  89164.98\n",
       "273 2025-02-25 23:30:00  89137.56\n",
       "274 2025-02-25 23:40:00  89028.69\n",
       "275 2025-02-25 23:50:00  88694.57\n",
       "\n",
       "[276 rows x 2 columns]"
      ]
     },
     "execution_count": 8,
     "metadata": {},
     "output_type": "execute_result"
    }
   ],
   "source": [
    "backtest_data = signals_data.loc[:, [\"datetime_est_10mins\", \"close\"]].reset_index(drop=True)\n",
    "backtest_data"
   ]
  },
  {
   "cell_type": "markdown",
   "metadata": {},
   "source": [
    "# Backtesting Example with Custom Signals"
   ]
  },
  {
   "cell_type": "code",
   "execution_count": 9,
   "metadata": {},
   "outputs": [],
   "source": [
    "project_root = r\"src/backtesting/trading_package\"\n",
    "os.chdir(project_root)"
   ]
  },
  {
   "cell_type": "code",
   "execution_count": 10,
   "metadata": {},
   "outputs": [
    {
     "name": "stdout",
     "output_type": "stream",
     "text": [
      "Created market data with 276 rows.\n",
      "\n",
      "Generating Strategies signals...\n",
      "\n",
      "Generating trades for strategies...\n",
      "\n",
      "Calculating performance metrics for strategies...\n",
      "\n",
      "Creating performance comparison visualization...\n"
     ]
    },
    {
     "data": {
      "application/vnd.plotly.v1+json": {
       "config": {
        "plotlyServerURL": "https://plot.ly"
       },
       "data": [
        {
         "hovertemplate": "%{x}<br>Return [%]: %{y:.2f}<extra></extra>",
         "marker": {
          "color": [
           "green",
           "green",
           "red"
          ]
         },
         "name": "Return [%]",
         "type": "bar",
         "x": [
          "agent_v5",
          "SMA_Crossover_6_24",
          "BollingerBands_20_1.5"
         ],
         "xaxis": "x",
         "y": [
          1.5166829845036256,
          1.6386431683029334,
          -4.959180137091779
         ],
         "yaxis": "y"
        },
        {
         "hovertemplate": "%{x}<br>Sharpe Ratio: %{y:.2f}<extra></extra>",
         "marker": {
          "color": [
           "green",
           "green",
           "red"
          ]
         },
         "name": "Sharpe Ratio",
         "type": "bar",
         "x": [
          "agent_v5",
          "SMA_Crossover_6_24",
          "BollingerBands_20_1.5"
         ],
         "xaxis": "x2",
         "y": [
          3.2518376691858593,
          1.5443613235423659,
          -23.7414787303318
         ],
         "yaxis": "y2"
        },
        {
         "hovertemplate": "%{x}<br>Sortino Ratio: %{y:.2f}<extra></extra>",
         "marker": {
          "color": [
           "green",
           "green",
           "red"
          ]
         },
         "name": "Sortino Ratio",
         "type": "bar",
         "x": [
          "agent_v5",
          "SMA_Crossover_6_24",
          "BollingerBands_20_1.5"
         ],
         "xaxis": "x3",
         "y": [
          11.264450509969999,
          4.532471503757469,
          -3.6285075903095385
         ],
         "yaxis": "y3"
        },
        {
         "hovertemplate": "%{x}<br>Max. Drawdown [%]: %{y:.2f}<extra></extra>",
         "marker": {
          "color": [
           "red",
           "red",
           "red"
          ]
         },
         "name": "Max. Drawdown [%]",
         "type": "bar",
         "x": [
          "agent_v5",
          "SMA_Crossover_6_24",
          "BollingerBands_20_1.5"
         ],
         "xaxis": "x4",
         "y": [
          -1.4030520221611664,
          -4.421804405229047,
          -8.976981342019375
         ],
         "yaxis": "y4"
        }
       ],
       "layout": {
        "annotations": [
         {
          "font": {
           "size": 16
          },
          "showarrow": false,
          "text": "Return [%]",
          "x": 0.5,
          "xanchor": "center",
          "xref": "paper",
          "y": 1,
          "yanchor": "bottom",
          "yref": "paper"
         },
         {
          "font": {
           "size": 16
          },
          "showarrow": false,
          "text": "Sharpe Ratio",
          "x": 0.5,
          "xanchor": "center",
          "xref": "paper",
          "y": 0.7375,
          "yanchor": "bottom",
          "yref": "paper"
         },
         {
          "font": {
           "size": 16
          },
          "showarrow": false,
          "text": "Sortino Ratio",
          "x": 0.5,
          "xanchor": "center",
          "xref": "paper",
          "y": 0.475,
          "yanchor": "bottom",
          "yref": "paper"
         },
         {
          "font": {
           "size": 16
          },
          "showarrow": false,
          "text": "Max. Drawdown [%]",
          "x": 0.5,
          "xanchor": "center",
          "xref": "paper",
          "y": 0.2125,
          "yanchor": "bottom",
          "yref": "paper"
         }
        ],
        "height": 600,
        "hovermode": "x",
        "showlegend": false,
        "template": {
         "data": {
          "bar": [
           {
            "error_x": {
             "color": "#2a3f5f"
            },
            "error_y": {
             "color": "#2a3f5f"
            },
            "marker": {
             "line": {
              "color": "white",
              "width": 0.5
             },
             "pattern": {
              "fillmode": "overlay",
              "size": 10,
              "solidity": 0.2
             }
            },
            "type": "bar"
           }
          ],
          "barpolar": [
           {
            "marker": {
             "line": {
              "color": "white",
              "width": 0.5
             },
             "pattern": {
              "fillmode": "overlay",
              "size": 10,
              "solidity": 0.2
             }
            },
            "type": "barpolar"
           }
          ],
          "carpet": [
           {
            "aaxis": {
             "endlinecolor": "#2a3f5f",
             "gridcolor": "#C8D4E3",
             "linecolor": "#C8D4E3",
             "minorgridcolor": "#C8D4E3",
             "startlinecolor": "#2a3f5f"
            },
            "baxis": {
             "endlinecolor": "#2a3f5f",
             "gridcolor": "#C8D4E3",
             "linecolor": "#C8D4E3",
             "minorgridcolor": "#C8D4E3",
             "startlinecolor": "#2a3f5f"
            },
            "type": "carpet"
           }
          ],
          "choropleth": [
           {
            "colorbar": {
             "outlinewidth": 0,
             "ticks": ""
            },
            "type": "choropleth"
           }
          ],
          "contour": [
           {
            "colorbar": {
             "outlinewidth": 0,
             "ticks": ""
            },
            "colorscale": [
             [
              0,
              "#0d0887"
             ],
             [
              0.1111111111111111,
              "#46039f"
             ],
             [
              0.2222222222222222,
              "#7201a8"
             ],
             [
              0.3333333333333333,
              "#9c179e"
             ],
             [
              0.4444444444444444,
              "#bd3786"
             ],
             [
              0.5555555555555556,
              "#d8576b"
             ],
             [
              0.6666666666666666,
              "#ed7953"
             ],
             [
              0.7777777777777778,
              "#fb9f3a"
             ],
             [
              0.8888888888888888,
              "#fdca26"
             ],
             [
              1,
              "#f0f921"
             ]
            ],
            "type": "contour"
           }
          ],
          "contourcarpet": [
           {
            "colorbar": {
             "outlinewidth": 0,
             "ticks": ""
            },
            "type": "contourcarpet"
           }
          ],
          "heatmap": [
           {
            "colorbar": {
             "outlinewidth": 0,
             "ticks": ""
            },
            "colorscale": [
             [
              0,
              "#0d0887"
             ],
             [
              0.1111111111111111,
              "#46039f"
             ],
             [
              0.2222222222222222,
              "#7201a8"
             ],
             [
              0.3333333333333333,
              "#9c179e"
             ],
             [
              0.4444444444444444,
              "#bd3786"
             ],
             [
              0.5555555555555556,
              "#d8576b"
             ],
             [
              0.6666666666666666,
              "#ed7953"
             ],
             [
              0.7777777777777778,
              "#fb9f3a"
             ],
             [
              0.8888888888888888,
              "#fdca26"
             ],
             [
              1,
              "#f0f921"
             ]
            ],
            "type": "heatmap"
           }
          ],
          "histogram": [
           {
            "marker": {
             "pattern": {
              "fillmode": "overlay",
              "size": 10,
              "solidity": 0.2
             }
            },
            "type": "histogram"
           }
          ],
          "histogram2d": [
           {
            "colorbar": {
             "outlinewidth": 0,
             "ticks": ""
            },
            "colorscale": [
             [
              0,
              "#0d0887"
             ],
             [
              0.1111111111111111,
              "#46039f"
             ],
             [
              0.2222222222222222,
              "#7201a8"
             ],
             [
              0.3333333333333333,
              "#9c179e"
             ],
             [
              0.4444444444444444,
              "#bd3786"
             ],
             [
              0.5555555555555556,
              "#d8576b"
             ],
             [
              0.6666666666666666,
              "#ed7953"
             ],
             [
              0.7777777777777778,
              "#fb9f3a"
             ],
             [
              0.8888888888888888,
              "#fdca26"
             ],
             [
              1,
              "#f0f921"
             ]
            ],
            "type": "histogram2d"
           }
          ],
          "histogram2dcontour": [
           {
            "colorbar": {
             "outlinewidth": 0,
             "ticks": ""
            },
            "colorscale": [
             [
              0,
              "#0d0887"
             ],
             [
              0.1111111111111111,
              "#46039f"
             ],
             [
              0.2222222222222222,
              "#7201a8"
             ],
             [
              0.3333333333333333,
              "#9c179e"
             ],
             [
              0.4444444444444444,
              "#bd3786"
             ],
             [
              0.5555555555555556,
              "#d8576b"
             ],
             [
              0.6666666666666666,
              "#ed7953"
             ],
             [
              0.7777777777777778,
              "#fb9f3a"
             ],
             [
              0.8888888888888888,
              "#fdca26"
             ],
             [
              1,
              "#f0f921"
             ]
            ],
            "type": "histogram2dcontour"
           }
          ],
          "mesh3d": [
           {
            "colorbar": {
             "outlinewidth": 0,
             "ticks": ""
            },
            "type": "mesh3d"
           }
          ],
          "parcoords": [
           {
            "line": {
             "colorbar": {
              "outlinewidth": 0,
              "ticks": ""
             }
            },
            "type": "parcoords"
           }
          ],
          "pie": [
           {
            "automargin": true,
            "type": "pie"
           }
          ],
          "scatter": [
           {
            "fillpattern": {
             "fillmode": "overlay",
             "size": 10,
             "solidity": 0.2
            },
            "type": "scatter"
           }
          ],
          "scatter3d": [
           {
            "line": {
             "colorbar": {
              "outlinewidth": 0,
              "ticks": ""
             }
            },
            "marker": {
             "colorbar": {
              "outlinewidth": 0,
              "ticks": ""
             }
            },
            "type": "scatter3d"
           }
          ],
          "scattercarpet": [
           {
            "marker": {
             "colorbar": {
              "outlinewidth": 0,
              "ticks": ""
             }
            },
            "type": "scattercarpet"
           }
          ],
          "scattergeo": [
           {
            "marker": {
             "colorbar": {
              "outlinewidth": 0,
              "ticks": ""
             }
            },
            "type": "scattergeo"
           }
          ],
          "scattergl": [
           {
            "marker": {
             "colorbar": {
              "outlinewidth": 0,
              "ticks": ""
             }
            },
            "type": "scattergl"
           }
          ],
          "scattermap": [
           {
            "marker": {
             "colorbar": {
              "outlinewidth": 0,
              "ticks": ""
             }
            },
            "type": "scattermap"
           }
          ],
          "scattermapbox": [
           {
            "marker": {
             "colorbar": {
              "outlinewidth": 0,
              "ticks": ""
             }
            },
            "type": "scattermapbox"
           }
          ],
          "scatterpolar": [
           {
            "marker": {
             "colorbar": {
              "outlinewidth": 0,
              "ticks": ""
             }
            },
            "type": "scatterpolar"
           }
          ],
          "scatterpolargl": [
           {
            "marker": {
             "colorbar": {
              "outlinewidth": 0,
              "ticks": ""
             }
            },
            "type": "scatterpolargl"
           }
          ],
          "scatterternary": [
           {
            "marker": {
             "colorbar": {
              "outlinewidth": 0,
              "ticks": ""
             }
            },
            "type": "scatterternary"
           }
          ],
          "surface": [
           {
            "colorbar": {
             "outlinewidth": 0,
             "ticks": ""
            },
            "colorscale": [
             [
              0,
              "#0d0887"
             ],
             [
              0.1111111111111111,
              "#46039f"
             ],
             [
              0.2222222222222222,
              "#7201a8"
             ],
             [
              0.3333333333333333,
              "#9c179e"
             ],
             [
              0.4444444444444444,
              "#bd3786"
             ],
             [
              0.5555555555555556,
              "#d8576b"
             ],
             [
              0.6666666666666666,
              "#ed7953"
             ],
             [
              0.7777777777777778,
              "#fb9f3a"
             ],
             [
              0.8888888888888888,
              "#fdca26"
             ],
             [
              1,
              "#f0f921"
             ]
            ],
            "type": "surface"
           }
          ],
          "table": [
           {
            "cells": {
             "fill": {
              "color": "#EBF0F8"
             },
             "line": {
              "color": "white"
             }
            },
            "header": {
             "fill": {
              "color": "#C8D4E3"
             },
             "line": {
              "color": "white"
             }
            },
            "type": "table"
           }
          ]
         },
         "layout": {
          "annotationdefaults": {
           "arrowcolor": "#2a3f5f",
           "arrowhead": 0,
           "arrowwidth": 1
          },
          "autotypenumbers": "strict",
          "coloraxis": {
           "colorbar": {
            "outlinewidth": 0,
            "ticks": ""
           }
          },
          "colorscale": {
           "diverging": [
            [
             0,
             "#8e0152"
            ],
            [
             0.1,
             "#c51b7d"
            ],
            [
             0.2,
             "#de77ae"
            ],
            [
             0.3,
             "#f1b6da"
            ],
            [
             0.4,
             "#fde0ef"
            ],
            [
             0.5,
             "#f7f7f7"
            ],
            [
             0.6,
             "#e6f5d0"
            ],
            [
             0.7,
             "#b8e186"
            ],
            [
             0.8,
             "#7fbc41"
            ],
            [
             0.9,
             "#4d9221"
            ],
            [
             1,
             "#276419"
            ]
           ],
           "sequential": [
            [
             0,
             "#0d0887"
            ],
            [
             0.1111111111111111,
             "#46039f"
            ],
            [
             0.2222222222222222,
             "#7201a8"
            ],
            [
             0.3333333333333333,
             "#9c179e"
            ],
            [
             0.4444444444444444,
             "#bd3786"
            ],
            [
             0.5555555555555556,
             "#d8576b"
            ],
            [
             0.6666666666666666,
             "#ed7953"
            ],
            [
             0.7777777777777778,
             "#fb9f3a"
            ],
            [
             0.8888888888888888,
             "#fdca26"
            ],
            [
             1,
             "#f0f921"
            ]
           ],
           "sequentialminus": [
            [
             0,
             "#0d0887"
            ],
            [
             0.1111111111111111,
             "#46039f"
            ],
            [
             0.2222222222222222,
             "#7201a8"
            ],
            [
             0.3333333333333333,
             "#9c179e"
            ],
            [
             0.4444444444444444,
             "#bd3786"
            ],
            [
             0.5555555555555556,
             "#d8576b"
            ],
            [
             0.6666666666666666,
             "#ed7953"
            ],
            [
             0.7777777777777778,
             "#fb9f3a"
            ],
            [
             0.8888888888888888,
             "#fdca26"
            ],
            [
             1,
             "#f0f921"
            ]
           ]
          },
          "colorway": [
           "#636efa",
           "#EF553B",
           "#00cc96",
           "#ab63fa",
           "#FFA15A",
           "#19d3f3",
           "#FF6692",
           "#B6E880",
           "#FF97FF",
           "#FECB52"
          ],
          "font": {
           "color": "#2a3f5f"
          },
          "geo": {
           "bgcolor": "white",
           "lakecolor": "white",
           "landcolor": "white",
           "showlakes": true,
           "showland": true,
           "subunitcolor": "#C8D4E3"
          },
          "hoverlabel": {
           "align": "left"
          },
          "hovermode": "closest",
          "mapbox": {
           "style": "light"
          },
          "paper_bgcolor": "white",
          "plot_bgcolor": "white",
          "polar": {
           "angularaxis": {
            "gridcolor": "#EBF0F8",
            "linecolor": "#EBF0F8",
            "ticks": ""
           },
           "bgcolor": "white",
           "radialaxis": {
            "gridcolor": "#EBF0F8",
            "linecolor": "#EBF0F8",
            "ticks": ""
           }
          },
          "scene": {
           "xaxis": {
            "backgroundcolor": "white",
            "gridcolor": "#DFE8F3",
            "gridwidth": 2,
            "linecolor": "#EBF0F8",
            "showbackground": true,
            "ticks": "",
            "zerolinecolor": "#EBF0F8"
           },
           "yaxis": {
            "backgroundcolor": "white",
            "gridcolor": "#DFE8F3",
            "gridwidth": 2,
            "linecolor": "#EBF0F8",
            "showbackground": true,
            "ticks": "",
            "zerolinecolor": "#EBF0F8"
           },
           "zaxis": {
            "backgroundcolor": "white",
            "gridcolor": "#DFE8F3",
            "gridwidth": 2,
            "linecolor": "#EBF0F8",
            "showbackground": true,
            "ticks": "",
            "zerolinecolor": "#EBF0F8"
           }
          },
          "shapedefaults": {
           "line": {
            "color": "#2a3f5f"
           }
          },
          "ternary": {
           "aaxis": {
            "gridcolor": "#DFE8F3",
            "linecolor": "#A2B1C6",
            "ticks": ""
           },
           "baxis": {
            "gridcolor": "#DFE8F3",
            "linecolor": "#A2B1C6",
            "ticks": ""
           },
           "bgcolor": "white",
           "caxis": {
            "gridcolor": "#DFE8F3",
            "linecolor": "#A2B1C6",
            "ticks": ""
           }
          },
          "title": {
           "x": 0.05
          },
          "xaxis": {
           "automargin": true,
           "gridcolor": "#EBF0F8",
           "linecolor": "#EBF0F8",
           "ticks": "",
           "title": {
            "standoff": 15
           },
           "zerolinecolor": "#EBF0F8",
           "zerolinewidth": 2
          },
          "yaxis": {
           "automargin": true,
           "gridcolor": "#EBF0F8",
           "linecolor": "#EBF0F8",
           "ticks": "",
           "title": {
            "standoff": 15
           },
           "zerolinecolor": "#EBF0F8",
           "zerolinewidth": 2
          }
         }
        },
        "title": {
         "text": "<b>Strategy Performance Comparison<b>"
        },
        "width": 1000,
        "xaxis": {
         "anchor": "y",
         "domain": [
          0,
          1
         ],
         "matches": "x4",
         "showticklabels": false
        },
        "xaxis2": {
         "anchor": "y2",
         "domain": [
          0,
          1
         ],
         "matches": "x4",
         "showticklabels": false
        },
        "xaxis3": {
         "anchor": "y3",
         "domain": [
          0,
          1
         ],
         "matches": "x4",
         "showticklabels": false
        },
        "xaxis4": {
         "anchor": "y4",
         "domain": [
          0,
          1
         ]
        },
        "yaxis": {
         "anchor": "x",
         "domain": [
          0.7875,
          1
         ]
        },
        "yaxis2": {
         "anchor": "x2",
         "domain": [
          0.525,
          0.7375
         ]
        },
        "yaxis3": {
         "anchor": "x3",
         "domain": [
          0.2625,
          0.475
         ]
        },
        "yaxis4": {
         "anchor": "x4",
         "domain": [
          0,
          0.2125
         ]
        }
       }
      }
     },
     "metadata": {},
     "output_type": "display_data"
    },
    {
     "name": "stdout",
     "output_type": "stream",
     "text": [
      "\n",
      "Creating equity curves visualization...\n"
     ]
    },
    {
     "data": {
      "application/vnd.plotly.v1+json": {
       "config": {
        "plotlyServerURL": "https://plot.ly"
       },
       "data": [
        {
         "hovertemplate": "%{x}<br>SMA_Crossover_6_24: %{y:.2%}<extra></extra>",
         "mode": "lines",
         "name": "SMA_Crossover_6_24",
         "type": "scatter",
         "x": [
          "2025-02-24T04:40:00",
          "2025-02-24T04:50:00",
          "2025-02-24T05:00:00",
          "2025-02-24T05:10:00",
          "2025-02-24T05:20:00",
          "2025-02-24T05:30:00",
          "2025-02-24T05:40:00",
          "2025-02-24T05:50:00",
          "2025-02-24T06:00:00",
          "2025-02-24T06:10:00",
          "2025-02-24T06:20:00",
          "2025-02-24T06:30:00",
          "2025-02-24T06:40:00",
          "2025-02-24T06:50:00",
          "2025-02-24T07:00:00",
          "2025-02-24T07:10:00",
          "2025-02-24T07:20:00",
          "2025-02-24T07:30:00",
          "2025-02-24T07:40:00",
          "2025-02-24T07:50:00",
          "2025-02-24T08:00:00",
          "2025-02-24T08:10:00",
          "2025-02-24T08:20:00",
          "2025-02-24T08:30:00",
          "2025-02-24T08:40:00",
          "2025-02-24T08:50:00",
          "2025-02-24T09:00:00",
          "2025-02-24T09:10:00",
          "2025-02-24T09:20:00",
          "2025-02-24T09:30:00",
          "2025-02-24T09:40:00",
          "2025-02-24T09:50:00",
          "2025-02-24T10:00:00",
          "2025-02-24T10:10:00",
          "2025-02-24T10:20:00",
          "2025-02-24T10:30:00",
          "2025-02-24T10:40:00",
          "2025-02-24T10:50:00",
          "2025-02-24T11:00:00",
          "2025-02-24T11:10:00",
          "2025-02-24T11:20:00",
          "2025-02-24T11:30:00",
          "2025-02-24T11:40:00",
          "2025-02-24T11:50:00",
          "2025-02-24T12:00:00",
          "2025-02-24T12:10:00",
          "2025-02-24T12:20:00",
          "2025-02-24T12:30:00",
          "2025-02-24T12:40:00",
          "2025-02-24T12:50:00",
          "2025-02-24T13:00:00",
          "2025-02-24T13:10:00",
          "2025-02-24T13:20:00",
          "2025-02-24T13:30:00",
          "2025-02-24T13:40:00",
          "2025-02-24T14:00:00",
          "2025-02-24T14:10:00",
          "2025-02-24T14:20:00",
          "2025-02-24T14:30:00",
          "2025-02-24T14:40:00",
          "2025-02-24T14:50:00",
          "2025-02-24T15:00:00",
          "2025-02-24T15:10:00",
          "2025-02-24T15:20:00",
          "2025-02-24T15:30:00",
          "2025-02-24T15:40:00",
          "2025-02-24T15:50:00",
          "2025-02-24T16:00:00",
          "2025-02-24T16:10:00",
          "2025-02-24T16:20:00",
          "2025-02-24T16:30:00",
          "2025-02-24T16:40:00",
          "2025-02-24T16:50:00",
          "2025-02-24T17:00:00",
          "2025-02-24T17:10:00",
          "2025-02-24T17:20:00",
          "2025-02-24T17:40:00",
          "2025-02-24T17:50:00",
          "2025-02-24T18:00:00",
          "2025-02-24T18:10:00",
          "2025-02-24T18:20:00",
          "2025-02-24T18:30:00",
          "2025-02-24T18:40:00",
          "2025-02-24T18:50:00",
          "2025-02-24T19:00:00",
          "2025-02-24T19:10:00",
          "2025-02-24T19:20:00",
          "2025-02-24T19:30:00",
          "2025-02-24T19:40:00",
          "2025-02-24T19:50:00",
          "2025-02-24T20:00:00",
          "2025-02-24T20:10:00",
          "2025-02-24T20:20:00",
          "2025-02-24T20:30:00",
          "2025-02-24T20:40:00",
          "2025-02-24T21:00:00",
          "2025-02-24T21:10:00",
          "2025-02-24T21:20:00",
          "2025-02-24T21:30:00",
          "2025-02-24T21:50:00",
          "2025-02-24T22:00:00",
          "2025-02-24T22:10:00",
          "2025-02-24T22:20:00",
          "2025-02-24T22:30:00",
          "2025-02-24T22:40:00",
          "2025-02-24T22:50:00",
          "2025-02-24T23:00:00",
          "2025-02-24T23:10:00",
          "2025-02-24T23:40:00",
          "2025-02-24T23:50:00",
          "2025-02-25T00:00:00",
          "2025-02-25T00:10:00",
          "2025-02-25T00:20:00",
          "2025-02-25T00:30:00",
          "2025-02-25T00:40:00",
          "2025-02-25T00:50:00",
          "2025-02-25T01:00:00",
          "2025-02-25T01:10:00",
          "2025-02-25T01:20:00",
          "2025-02-25T01:30:00",
          "2025-02-25T01:40:00",
          "2025-02-25T01:50:00",
          "2025-02-25T02:00:00",
          "2025-02-25T02:10:00",
          "2025-02-25T02:20:00",
          "2025-02-25T02:30:00",
          "2025-02-25T02:40:00",
          "2025-02-25T02:50:00",
          "2025-02-25T03:00:00",
          "2025-02-25T03:10:00",
          "2025-02-25T03:20:00",
          "2025-02-25T03:30:00",
          "2025-02-25T03:40:00",
          "2025-02-25T03:50:00",
          "2025-02-25T04:00:00",
          "2025-02-25T04:10:00",
          "2025-02-25T04:20:00",
          "2025-02-25T04:30:00",
          "2025-02-25T04:40:00",
          "2025-02-25T04:50:00",
          "2025-02-25T05:00:00",
          "2025-02-25T05:10:00",
          "2025-02-25T05:20:00",
          "2025-02-25T05:30:00",
          "2025-02-25T05:40:00",
          "2025-02-25T05:50:00",
          "2025-02-25T06:00:00",
          "2025-02-25T06:10:00",
          "2025-02-25T06:20:00",
          "2025-02-25T06:30:00",
          "2025-02-25T06:40:00",
          "2025-02-25T06:50:00",
          "2025-02-25T07:00:00",
          "2025-02-25T07:10:00",
          "2025-02-25T07:20:00",
          "2025-02-25T07:30:00",
          "2025-02-25T07:40:00",
          "2025-02-25T07:50:00",
          "2025-02-25T08:00:00",
          "2025-02-25T08:10:00",
          "2025-02-25T08:20:00",
          "2025-02-25T08:30:00",
          "2025-02-25T08:40:00",
          "2025-02-25T08:50:00",
          "2025-02-25T09:00:00",
          "2025-02-25T09:10:00",
          "2025-02-25T09:20:00",
          "2025-02-25T09:30:00",
          "2025-02-25T09:40:00",
          "2025-02-25T09:50:00",
          "2025-02-25T10:00:00",
          "2025-02-25T10:10:00",
          "2025-02-25T10:20:00",
          "2025-02-25T10:30:00",
          "2025-02-25T10:40:00",
          "2025-02-25T10:50:00",
          "2025-02-25T11:00:00",
          "2025-02-25T11:10:00",
          "2025-02-25T11:20:00",
          "2025-02-25T11:30:00",
          "2025-02-25T11:40:00",
          "2025-02-25T11:50:00",
          "2025-02-25T12:00:00",
          "2025-02-25T12:10:00",
          "2025-02-25T12:20:00",
          "2025-02-25T12:30:00",
          "2025-02-25T12:40:00",
          "2025-02-25T12:50:00",
          "2025-02-25T13:00:00",
          "2025-02-25T13:10:00",
          "2025-02-25T13:20:00",
          "2025-02-25T13:30:00",
          "2025-02-25T13:40:00",
          "2025-02-25T13:50:00",
          "2025-02-25T14:00:00",
          "2025-02-25T14:10:00",
          "2025-02-25T14:20:00",
          "2025-02-25T14:30:00",
          "2025-02-25T14:40:00",
          "2025-02-25T14:50:00",
          "2025-02-25T15:00:00",
          "2025-02-25T15:10:00",
          "2025-02-25T15:20:00",
          "2025-02-25T15:30:00",
          "2025-02-25T15:40:00",
          "2025-02-25T15:50:00",
          "2025-02-25T16:00:00",
          "2025-02-25T16:10:00",
          "2025-02-25T16:20:00",
          "2025-02-25T16:30:00",
          "2025-02-25T16:40:00",
          "2025-02-25T16:50:00",
          "2025-02-25T17:00:00",
          "2025-02-25T17:10:00",
          "2025-02-25T17:30:00",
          "2025-02-25T17:40:00",
          "2025-02-25T17:50:00",
          "2025-02-25T18:00:00",
          "2025-02-25T18:10:00",
          "2025-02-25T18:20:00",
          "2025-02-25T18:30:00",
          "2025-02-25T18:40:00",
          "2025-02-25T18:50:00",
          "2025-02-25T19:00:00",
          "2025-02-25T19:10:00",
          "2025-02-25T19:20:00",
          "2025-02-25T19:30:00",
          "2025-02-25T19:50:00",
          "2025-02-25T20:00:00",
          "2025-02-25T20:20:00",
          "2025-02-25T20:30:00",
          "2025-02-25T20:40:00",
          "2025-02-25T20:50:00",
          "2025-02-25T21:00:00",
          "2025-02-25T21:10:00",
          "2025-02-25T21:20:00",
          "2025-02-25T21:30:00",
          "2025-02-25T21:40:00",
          "2025-02-25T21:50:00",
          "2025-02-25T22:10:00",
          "2025-02-25T22:20:00",
          "2025-02-25T22:30:00",
          "2025-02-25T22:40:00",
          "2025-02-25T22:50:00",
          "2025-02-25T23:00:00",
          "2025-02-25T23:10:00",
          "2025-02-25T23:20:00",
          "2025-02-25T23:30:00",
          "2025-02-25T23:40:00",
          "2025-02-25T23:50:00"
         ],
         "y": {
          "bdata": "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",
          "dtype": "f8"
         }
        },
        {
         "hovertemplate": "%{x}<br>BollingerBands_20_1.5: %{y:.2%}<extra></extra>",
         "mode": "lines",
         "name": "BollingerBands_20_1.5",
         "type": "scatter",
         "x": [
          "2025-02-24T04:40:00",
          "2025-02-24T04:50:00",
          "2025-02-24T05:00:00",
          "2025-02-24T05:10:00",
          "2025-02-24T05:20:00",
          "2025-02-24T05:30:00",
          "2025-02-24T05:40:00",
          "2025-02-24T05:50:00",
          "2025-02-24T06:00:00",
          "2025-02-24T06:10:00",
          "2025-02-24T06:20:00",
          "2025-02-24T06:30:00",
          "2025-02-24T06:40:00",
          "2025-02-24T06:50:00",
          "2025-02-24T07:00:00",
          "2025-02-24T07:10:00",
          "2025-02-24T07:20:00",
          "2025-02-24T07:30:00",
          "2025-02-24T07:40:00",
          "2025-02-24T07:50:00",
          "2025-02-24T08:00:00",
          "2025-02-24T08:10:00",
          "2025-02-24T08:20:00",
          "2025-02-24T08:30:00",
          "2025-02-24T08:40:00",
          "2025-02-24T08:50:00",
          "2025-02-24T09:00:00",
          "2025-02-24T09:10:00",
          "2025-02-24T09:20:00",
          "2025-02-24T09:30:00",
          "2025-02-24T09:40:00",
          "2025-02-24T09:50:00",
          "2025-02-24T10:00:00",
          "2025-02-24T10:10:00",
          "2025-02-24T10:20:00",
          "2025-02-24T10:30:00",
          "2025-02-24T10:40:00",
          "2025-02-24T10:50:00",
          "2025-02-24T11:00:00",
          "2025-02-24T11:10:00",
          "2025-02-24T11:20:00",
          "2025-02-24T11:30:00",
          "2025-02-24T11:40:00",
          "2025-02-24T11:50:00",
          "2025-02-24T12:00:00",
          "2025-02-24T12:10:00",
          "2025-02-24T12:20:00",
          "2025-02-24T12:30:00",
          "2025-02-24T12:40:00",
          "2025-02-24T12:50:00",
          "2025-02-24T13:00:00",
          "2025-02-24T13:10:00",
          "2025-02-24T13:20:00",
          "2025-02-24T13:30:00",
          "2025-02-24T13:40:00",
          "2025-02-24T14:00:00",
          "2025-02-24T14:10:00",
          "2025-02-24T14:20:00",
          "2025-02-24T14:30:00",
          "2025-02-24T14:40:00",
          "2025-02-24T14:50:00",
          "2025-02-24T15:00:00",
          "2025-02-24T15:10:00",
          "2025-02-24T15:20:00",
          "2025-02-24T15:30:00",
          "2025-02-24T15:40:00",
          "2025-02-24T15:50:00",
          "2025-02-24T16:00:00",
          "2025-02-24T16:10:00",
          "2025-02-24T16:20:00",
          "2025-02-24T16:30:00",
          "2025-02-24T16:40:00",
          "2025-02-24T16:50:00",
          "2025-02-24T17:00:00",
          "2025-02-24T17:10:00",
          "2025-02-24T17:20:00",
          "2025-02-24T17:40:00",
          "2025-02-24T17:50:00",
          "2025-02-24T18:00:00",
          "2025-02-24T18:10:00",
          "2025-02-24T18:20:00",
          "2025-02-24T18:30:00",
          "2025-02-24T18:40:00",
          "2025-02-24T18:50:00",
          "2025-02-24T19:00:00",
          "2025-02-24T19:10:00",
          "2025-02-24T19:20:00",
          "2025-02-24T19:30:00",
          "2025-02-24T19:40:00",
          "2025-02-24T19:50:00",
          "2025-02-24T20:00:00",
          "2025-02-24T20:10:00",
          "2025-02-24T20:20:00",
          "2025-02-24T20:30:00",
          "2025-02-24T20:40:00",
          "2025-02-24T21:00:00",
          "2025-02-24T21:10:00",
          "2025-02-24T21:20:00",
          "2025-02-24T21:30:00",
          "2025-02-24T21:50:00",
          "2025-02-24T22:00:00",
          "2025-02-24T22:10:00",
          "2025-02-24T22:20:00",
          "2025-02-24T22:30:00",
          "2025-02-24T22:40:00",
          "2025-02-24T22:50:00",
          "2025-02-24T23:00:00",
          "2025-02-24T23:10:00",
          "2025-02-24T23:40:00",
          "2025-02-24T23:50:00",
          "2025-02-25T00:00:00",
          "2025-02-25T00:10:00",
          "2025-02-25T00:20:00",
          "2025-02-25T00:30:00",
          "2025-02-25T00:40:00",
          "2025-02-25T00:50:00",
          "2025-02-25T01:00:00",
          "2025-02-25T01:10:00",
          "2025-02-25T01:20:00",
          "2025-02-25T01:30:00",
          "2025-02-25T01:40:00",
          "2025-02-25T01:50:00",
          "2025-02-25T02:00:00",
          "2025-02-25T02:10:00",
          "2025-02-25T02:20:00",
          "2025-02-25T02:30:00",
          "2025-02-25T02:40:00",
          "2025-02-25T02:50:00",
          "2025-02-25T03:00:00",
          "2025-02-25T03:10:00",
          "2025-02-25T03:20:00",
          "2025-02-25T03:30:00",
          "2025-02-25T03:40:00",
          "2025-02-25T03:50:00",
          "2025-02-25T04:00:00",
          "2025-02-25T04:10:00",
          "2025-02-25T04:20:00",
          "2025-02-25T04:30:00",
          "2025-02-25T04:40:00",
          "2025-02-25T04:50:00",
          "2025-02-25T05:00:00",
          "2025-02-25T05:10:00",
          "2025-02-25T05:20:00",
          "2025-02-25T05:30:00",
          "2025-02-25T05:40:00",
          "2025-02-25T05:50:00",
          "2025-02-25T06:00:00",
          "2025-02-25T06:10:00",
          "2025-02-25T06:20:00",
          "2025-02-25T06:30:00",
          "2025-02-25T06:40:00",
          "2025-02-25T06:50:00",
          "2025-02-25T07:00:00",
          "2025-02-25T07:10:00",
          "2025-02-25T07:20:00",
          "2025-02-25T07:30:00",
          "2025-02-25T07:40:00",
          "2025-02-25T07:50:00",
          "2025-02-25T08:00:00",
          "2025-02-25T08:10:00",
          "2025-02-25T08:20:00",
          "2025-02-25T08:30:00",
          "2025-02-25T08:40:00",
          "2025-02-25T08:50:00",
          "2025-02-25T09:00:00",
          "2025-02-25T09:10:00",
          "2025-02-25T09:20:00",
          "2025-02-25T09:30:00",
          "2025-02-25T09:40:00",
          "2025-02-25T09:50:00",
          "2025-02-25T10:00:00",
          "2025-02-25T10:10:00",
          "2025-02-25T10:20:00",
          "2025-02-25T10:30:00",
          "2025-02-25T10:40:00",
          "2025-02-25T10:50:00",
          "2025-02-25T11:00:00",
          "2025-02-25T11:10:00",
          "2025-02-25T11:20:00",
          "2025-02-25T11:30:00",
          "2025-02-25T11:40:00",
          "2025-02-25T11:50:00",
          "2025-02-25T12:00:00",
          "2025-02-25T12:10:00",
          "2025-02-25T12:20:00",
          "2025-02-25T12:30:00",
          "2025-02-25T12:40:00",
          "2025-02-25T12:50:00",
          "2025-02-25T13:00:00",
          "2025-02-25T13:10:00",
          "2025-02-25T13:20:00",
          "2025-02-25T13:30:00",
          "2025-02-25T13:40:00",
          "2025-02-25T13:50:00",
          "2025-02-25T14:00:00",
          "2025-02-25T14:10:00",
          "2025-02-25T14:20:00",
          "2025-02-25T14:30:00",
          "2025-02-25T14:40:00",
          "2025-02-25T14:50:00",
          "2025-02-25T15:00:00",
          "2025-02-25T15:10:00",
          "2025-02-25T15:20:00",
          "2025-02-25T15:30:00",
          "2025-02-25T15:40:00",
          "2025-02-25T15:50:00",
          "2025-02-25T16:00:00",
          "2025-02-25T16:10:00",
          "2025-02-25T16:20:00",
          "2025-02-25T16:30:00",
          "2025-02-25T16:40:00",
          "2025-02-25T16:50:00",
          "2025-02-25T17:00:00",
          "2025-02-25T17:10:00",
          "2025-02-25T17:30:00",
          "2025-02-25T17:40:00",
          "2025-02-25T17:50:00",
          "2025-02-25T18:00:00",
          "2025-02-25T18:10:00",
          "2025-02-25T18:20:00",
          "2025-02-25T18:30:00",
          "2025-02-25T18:40:00",
          "2025-02-25T18:50:00",
          "2025-02-25T19:00:00",
          "2025-02-25T19:10:00",
          "2025-02-25T19:20:00",
          "2025-02-25T19:30:00",
          "2025-02-25T19:50:00",
          "2025-02-25T20:00:00",
          "2025-02-25T20:20:00",
          "2025-02-25T20:30:00",
          "2025-02-25T20:40:00",
          "2025-02-25T20:50:00",
          "2025-02-25T21:00:00",
          "2025-02-25T21:10:00",
          "2025-02-25T21:20:00",
          "2025-02-25T21:30:00",
          "2025-02-25T21:40:00",
          "2025-02-25T21:50:00",
          "2025-02-25T22:10:00",
          "2025-02-25T22:20:00",
          "2025-02-25T22:30:00",
          "2025-02-25T22:40:00",
          "2025-02-25T22:50:00",
          "2025-02-25T23:00:00",
          "2025-02-25T23:10:00",
          "2025-02-25T23:20:00",
          "2025-02-25T23:30:00",
          "2025-02-25T23:40:00",
          "2025-02-25T23:50:00"
         ],
         "y": {
          "bdata": "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",
          "dtype": "f8"
         }
        },
        {
         "hovertemplate": "%{x}<br>agent_v5: %{y:.2%}<extra></extra>",
         "mode": "lines",
         "name": "agent_v5",
         "type": "scatter",
         "x": [
          "2025-02-24T04:40:00",
          "2025-02-24T04:50:00",
          "2025-02-24T05:00:00",
          "2025-02-24T05:10:00",
          "2025-02-24T05:20:00",
          "2025-02-24T05:30:00",
          "2025-02-24T05:40:00",
          "2025-02-24T05:50:00",
          "2025-02-24T06:00:00",
          "2025-02-24T06:10:00",
          "2025-02-24T06:20:00",
          "2025-02-24T06:30:00",
          "2025-02-24T06:40:00",
          "2025-02-24T06:50:00",
          "2025-02-24T07:00:00",
          "2025-02-24T07:10:00",
          "2025-02-24T07:20:00",
          "2025-02-24T07:30:00",
          "2025-02-24T07:40:00",
          "2025-02-24T07:50:00",
          "2025-02-24T08:00:00",
          "2025-02-24T08:10:00",
          "2025-02-24T08:20:00",
          "2025-02-24T08:30:00",
          "2025-02-24T08:40:00",
          "2025-02-24T08:50:00",
          "2025-02-24T09:00:00",
          "2025-02-24T09:10:00",
          "2025-02-24T09:20:00",
          "2025-02-24T09:30:00",
          "2025-02-24T09:40:00",
          "2025-02-24T09:50:00",
          "2025-02-24T10:00:00",
          "2025-02-24T10:10:00",
          "2025-02-24T10:20:00",
          "2025-02-24T10:30:00",
          "2025-02-24T10:40:00",
          "2025-02-24T10:50:00",
          "2025-02-24T11:00:00",
          "2025-02-24T11:10:00",
          "2025-02-24T11:20:00",
          "2025-02-24T11:30:00",
          "2025-02-24T11:40:00",
          "2025-02-24T11:50:00",
          "2025-02-24T12:00:00",
          "2025-02-24T12:10:00",
          "2025-02-24T12:20:00",
          "2025-02-24T12:30:00",
          "2025-02-24T12:40:00",
          "2025-02-24T12:50:00",
          "2025-02-24T13:00:00",
          "2025-02-24T13:10:00",
          "2025-02-24T13:20:00",
          "2025-02-24T13:30:00",
          "2025-02-24T13:40:00",
          "2025-02-24T14:00:00",
          "2025-02-24T14:10:00",
          "2025-02-24T14:20:00",
          "2025-02-24T14:30:00",
          "2025-02-24T14:40:00",
          "2025-02-24T14:50:00",
          "2025-02-24T15:00:00",
          "2025-02-24T15:10:00",
          "2025-02-24T15:20:00",
          "2025-02-24T15:30:00",
          "2025-02-24T15:40:00",
          "2025-02-24T15:50:00",
          "2025-02-24T16:00:00",
          "2025-02-24T16:10:00",
          "2025-02-24T16:20:00",
          "2025-02-24T16:30:00",
          "2025-02-24T16:40:00",
          "2025-02-24T16:50:00",
          "2025-02-24T17:00:00",
          "2025-02-24T17:10:00",
          "2025-02-24T17:20:00",
          "2025-02-24T17:40:00",
          "2025-02-24T17:50:00",
          "2025-02-24T18:00:00",
          "2025-02-24T18:10:00",
          "2025-02-24T18:20:00",
          "2025-02-24T18:30:00",
          "2025-02-24T18:40:00",
          "2025-02-24T18:50:00",
          "2025-02-24T19:00:00",
          "2025-02-24T19:10:00",
          "2025-02-24T19:20:00",
          "2025-02-24T19:30:00",
          "2025-02-24T19:40:00",
          "2025-02-24T19:50:00",
          "2025-02-24T20:00:00",
          "2025-02-24T20:10:00",
          "2025-02-24T20:20:00",
          "2025-02-24T20:30:00",
          "2025-02-24T20:40:00",
          "2025-02-24T21:00:00",
          "2025-02-24T21:10:00",
          "2025-02-24T21:20:00",
          "2025-02-24T21:30:00",
          "2025-02-24T21:50:00",
          "2025-02-24T22:00:00",
          "2025-02-24T22:10:00",
          "2025-02-24T22:20:00",
          "2025-02-24T22:30:00",
          "2025-02-24T22:40:00",
          "2025-02-24T22:50:00",
          "2025-02-24T23:00:00",
          "2025-02-24T23:10:00",
          "2025-02-24T23:40:00",
          "2025-02-24T23:50:00",
          "2025-02-25T00:00:00",
          "2025-02-25T00:10:00",
          "2025-02-25T00:20:00",
          "2025-02-25T00:30:00",
          "2025-02-25T00:40:00",
          "2025-02-25T00:50:00",
          "2025-02-25T01:00:00",
          "2025-02-25T01:10:00",
          "2025-02-25T01:20:00",
          "2025-02-25T01:30:00",
          "2025-02-25T01:40:00",
          "2025-02-25T01:50:00",
          "2025-02-25T02:00:00",
          "2025-02-25T02:10:00",
          "2025-02-25T02:20:00",
          "2025-02-25T02:30:00",
          "2025-02-25T02:40:00",
          "2025-02-25T02:50:00",
          "2025-02-25T03:00:00",
          "2025-02-25T03:10:00",
          "2025-02-25T03:20:00",
          "2025-02-25T03:30:00",
          "2025-02-25T03:40:00",
          "2025-02-25T03:50:00",
          "2025-02-25T04:00:00",
          "2025-02-25T04:10:00",
          "2025-02-25T04:20:00",
          "2025-02-25T04:30:00",
          "2025-02-25T04:40:00",
          "2025-02-25T04:50:00",
          "2025-02-25T05:00:00",
          "2025-02-25T05:10:00",
          "2025-02-25T05:20:00",
          "2025-02-25T05:30:00",
          "2025-02-25T05:40:00",
          "2025-02-25T05:50:00",
          "2025-02-25T06:00:00",
          "2025-02-25T06:10:00",
          "2025-02-25T06:20:00",
          "2025-02-25T06:30:00",
          "2025-02-25T06:40:00",
          "2025-02-25T06:50:00",
          "2025-02-25T07:00:00",
          "2025-02-25T07:10:00",
          "2025-02-25T07:20:00",
          "2025-02-25T07:30:00",
          "2025-02-25T07:40:00",
          "2025-02-25T07:50:00",
          "2025-02-25T08:00:00",
          "2025-02-25T08:10:00",
          "2025-02-25T08:20:00",
          "2025-02-25T08:30:00",
          "2025-02-25T08:40:00",
          "2025-02-25T08:50:00",
          "2025-02-25T09:00:00",
          "2025-02-25T09:10:00",
          "2025-02-25T09:20:00",
          "2025-02-25T09:30:00",
          "2025-02-25T09:40:00",
          "2025-02-25T09:50:00",
          "2025-02-25T10:00:00",
          "2025-02-25T10:10:00",
          "2025-02-25T10:20:00",
          "2025-02-25T10:30:00",
          "2025-02-25T10:40:00",
          "2025-02-25T10:50:00",
          "2025-02-25T11:00:00",
          "2025-02-25T11:10:00",
          "2025-02-25T11:20:00",
          "2025-02-25T11:30:00",
          "2025-02-25T11:40:00",
          "2025-02-25T11:50:00",
          "2025-02-25T12:00:00",
          "2025-02-25T12:10:00",
          "2025-02-25T12:20:00",
          "2025-02-25T12:30:00",
          "2025-02-25T12:40:00",
          "2025-02-25T12:50:00",
          "2025-02-25T13:00:00",
          "2025-02-25T13:10:00",
          "2025-02-25T13:20:00",
          "2025-02-25T13:30:00",
          "2025-02-25T13:40:00",
          "2025-02-25T13:50:00",
          "2025-02-25T14:00:00",
          "2025-02-25T14:10:00",
          "2025-02-25T14:20:00",
          "2025-02-25T14:30:00",
          "2025-02-25T14:40:00",
          "2025-02-25T14:50:00",
          "2025-02-25T15:00:00",
          "2025-02-25T15:10:00",
          "2025-02-25T15:20:00",
          "2025-02-25T15:30:00",
          "2025-02-25T15:40:00",
          "2025-02-25T15:50:00",
          "2025-02-25T16:00:00",
          "2025-02-25T16:10:00",
          "2025-02-25T16:20:00",
          "2025-02-25T16:30:00",
          "2025-02-25T16:40:00",
          "2025-02-25T16:50:00",
          "2025-02-25T17:00:00",
          "2025-02-25T17:10:00",
          "2025-02-25T17:30:00",
          "2025-02-25T17:40:00",
          "2025-02-25T17:50:00",
          "2025-02-25T18:00:00",
          "2025-02-25T18:10:00",
          "2025-02-25T18:20:00",
          "2025-02-25T18:30:00",
          "2025-02-25T18:40:00",
          "2025-02-25T18:50:00",
          "2025-02-25T19:00:00",
          "2025-02-25T19:10:00",
          "2025-02-25T19:20:00",
          "2025-02-25T19:30:00",
          "2025-02-25T19:50:00",
          "2025-02-25T20:00:00",
          "2025-02-25T20:20:00",
          "2025-02-25T20:30:00",
          "2025-02-25T20:40:00",
          "2025-02-25T20:50:00",
          "2025-02-25T21:00:00",
          "2025-02-25T21:10:00",
          "2025-02-25T21:20:00",
          "2025-02-25T21:30:00",
          "2025-02-25T21:40:00",
          "2025-02-25T21:50:00",
          "2025-02-25T22:10:00",
          "2025-02-25T22:20:00",
          "2025-02-25T22:30:00",
          "2025-02-25T22:40:00",
          "2025-02-25T22:50:00",
          "2025-02-25T23:00:00",
          "2025-02-25T23:10:00",
          "2025-02-25T23:20:00",
          "2025-02-25T23:30:00",
          "2025-02-25T23:40:00",
          "2025-02-25T23:50:00"
         ],
         "y": {
          "bdata": "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",
          "dtype": "f8"
         }
        },
        {
         "hovertemplate": "%{x}<br>Benchmark: %{y:.2%}<extra></extra>",
         "line": {
          "color": "#F2A900",
          "dash": "dash"
         },
         "mode": "lines",
         "name": "Benchmark (Buy & Hold)",
         "type": "scatter",
         "x": [
          "2025-02-24T04:40:00",
          "2025-02-24T04:50:00",
          "2025-02-24T05:00:00",
          "2025-02-24T05:10:00",
          "2025-02-24T05:20:00",
          "2025-02-24T05:30:00",
          "2025-02-24T05:40:00",
          "2025-02-24T05:50:00",
          "2025-02-24T06:00:00",
          "2025-02-24T06:10:00",
          "2025-02-24T06:20:00",
          "2025-02-24T06:30:00",
          "2025-02-24T06:40:00",
          "2025-02-24T06:50:00",
          "2025-02-24T07:00:00",
          "2025-02-24T07:10:00",
          "2025-02-24T07:20:00",
          "2025-02-24T07:30:00",
          "2025-02-24T07:40:00",
          "2025-02-24T07:50:00",
          "2025-02-24T08:00:00",
          "2025-02-24T08:10:00",
          "2025-02-24T08:20:00",
          "2025-02-24T08:30:00",
          "2025-02-24T08:40:00",
          "2025-02-24T08:50:00",
          "2025-02-24T09:00:00",
          "2025-02-24T09:10:00",
          "2025-02-24T09:20:00",
          "2025-02-24T09:30:00",
          "2025-02-24T09:40:00",
          "2025-02-24T09:50:00",
          "2025-02-24T10:00:00",
          "2025-02-24T10:10:00",
          "2025-02-24T10:20:00",
          "2025-02-24T10:30:00",
          "2025-02-24T10:40:00",
          "2025-02-24T10:50:00",
          "2025-02-24T11:00:00",
          "2025-02-24T11:10:00",
          "2025-02-24T11:20:00",
          "2025-02-24T11:30:00",
          "2025-02-24T11:40:00",
          "2025-02-24T11:50:00",
          "2025-02-24T12:00:00",
          "2025-02-24T12:10:00",
          "2025-02-24T12:20:00",
          "2025-02-24T12:30:00",
          "2025-02-24T12:40:00",
          "2025-02-24T12:50:00",
          "2025-02-24T13:00:00",
          "2025-02-24T13:10:00",
          "2025-02-24T13:20:00",
          "2025-02-24T13:30:00",
          "2025-02-24T13:40:00",
          "2025-02-24T14:00:00",
          "2025-02-24T14:10:00",
          "2025-02-24T14:20:00",
          "2025-02-24T14:30:00",
          "2025-02-24T14:40:00",
          "2025-02-24T14:50:00",
          "2025-02-24T15:00:00",
          "2025-02-24T15:10:00",
          "2025-02-24T15:20:00",
          "2025-02-24T15:30:00",
          "2025-02-24T15:40:00",
          "2025-02-24T15:50:00",
          "2025-02-24T16:00:00",
          "2025-02-24T16:10:00",
          "2025-02-24T16:20:00",
          "2025-02-24T16:30:00",
          "2025-02-24T16:40:00",
          "2025-02-24T16:50:00",
          "2025-02-24T17:00:00",
          "2025-02-24T17:10:00",
          "2025-02-24T17:20:00",
          "2025-02-24T17:40:00",
          "2025-02-24T17:50:00",
          "2025-02-24T18:00:00",
          "2025-02-24T18:10:00",
          "2025-02-24T18:20:00",
          "2025-02-24T18:30:00",
          "2025-02-24T18:40:00",
          "2025-02-24T18:50:00",
          "2025-02-24T19:00:00",
          "2025-02-24T19:10:00",
          "2025-02-24T19:20:00",
          "2025-02-24T19:30:00",
          "2025-02-24T19:40:00",
          "2025-02-24T19:50:00",
          "2025-02-24T20:00:00",
          "2025-02-24T20:10:00",
          "2025-02-24T20:20:00",
          "2025-02-24T20:30:00",
          "2025-02-24T20:40:00",
          "2025-02-24T21:00:00",
          "2025-02-24T21:10:00",
          "2025-02-24T21:20:00",
          "2025-02-24T21:30:00",
          "2025-02-24T21:50:00",
          "2025-02-24T22:00:00",
          "2025-02-24T22:10:00",
          "2025-02-24T22:20:00",
          "2025-02-24T22:30:00",
          "2025-02-24T22:40:00",
          "2025-02-24T22:50:00",
          "2025-02-24T23:00:00",
          "2025-02-24T23:10:00",
          "2025-02-24T23:40:00",
          "2025-02-24T23:50:00",
          "2025-02-25T00:00:00",
          "2025-02-25T00:10:00",
          "2025-02-25T00:20:00",
          "2025-02-25T00:30:00",
          "2025-02-25T00:40:00",
          "2025-02-25T00:50:00",
          "2025-02-25T01:00:00",
          "2025-02-25T01:10:00",
          "2025-02-25T01:20:00",
          "2025-02-25T01:30:00",
          "2025-02-25T01:40:00",
          "2025-02-25T01:50:00",
          "2025-02-25T02:00:00",
          "2025-02-25T02:10:00",
          "2025-02-25T02:20:00",
          "2025-02-25T02:30:00",
          "2025-02-25T02:40:00",
          "2025-02-25T02:50:00",
          "2025-02-25T03:00:00",
          "2025-02-25T03:10:00",
          "2025-02-25T03:20:00",
          "2025-02-25T03:30:00",
          "2025-02-25T03:40:00",
          "2025-02-25T03:50:00",
          "2025-02-25T04:00:00",
          "2025-02-25T04:10:00",
          "2025-02-25T04:20:00",
          "2025-02-25T04:30:00",
          "2025-02-25T04:40:00",
          "2025-02-25T04:50:00",
          "2025-02-25T05:00:00",
          "2025-02-25T05:10:00",
          "2025-02-25T05:20:00",
          "2025-02-25T05:30:00",
          "2025-02-25T05:40:00",
          "2025-02-25T05:50:00",
          "2025-02-25T06:00:00",
          "2025-02-25T06:10:00",
          "2025-02-25T06:20:00",
          "2025-02-25T06:30:00",
          "2025-02-25T06:40:00",
          "2025-02-25T06:50:00",
          "2025-02-25T07:00:00",
          "2025-02-25T07:10:00",
          "2025-02-25T07:20:00",
          "2025-02-25T07:30:00",
          "2025-02-25T07:40:00",
          "2025-02-25T07:50:00",
          "2025-02-25T08:00:00",
          "2025-02-25T08:10:00",
          "2025-02-25T08:20:00",
          "2025-02-25T08:30:00",
          "2025-02-25T08:40:00",
          "2025-02-25T08:50:00",
          "2025-02-25T09:00:00",
          "2025-02-25T09:10:00",
          "2025-02-25T09:20:00",
          "2025-02-25T09:30:00",
          "2025-02-25T09:40:00",
          "2025-02-25T09:50:00",
          "2025-02-25T10:00:00",
          "2025-02-25T10:10:00",
          "2025-02-25T10:20:00",
          "2025-02-25T10:30:00",
          "2025-02-25T10:40:00",
          "2025-02-25T10:50:00",
          "2025-02-25T11:00:00",
          "2025-02-25T11:10:00",
          "2025-02-25T11:20:00",
          "2025-02-25T11:30:00",
          "2025-02-25T11:40:00",
          "2025-02-25T11:50:00",
          "2025-02-25T12:00:00",
          "2025-02-25T12:10:00",
          "2025-02-25T12:20:00",
          "2025-02-25T12:30:00",
          "2025-02-25T12:40:00",
          "2025-02-25T12:50:00",
          "2025-02-25T13:00:00",
          "2025-02-25T13:10:00",
          "2025-02-25T13:20:00",
          "2025-02-25T13:30:00",
          "2025-02-25T13:40:00",
          "2025-02-25T13:50:00",
          "2025-02-25T14:00:00",
          "2025-02-25T14:10:00",
          "2025-02-25T14:20:00",
          "2025-02-25T14:30:00",
          "2025-02-25T14:40:00",
          "2025-02-25T14:50:00",
          "2025-02-25T15:00:00",
          "2025-02-25T15:10:00",
          "2025-02-25T15:20:00",
          "2025-02-25T15:30:00",
          "2025-02-25T15:40:00",
          "2025-02-25T15:50:00",
          "2025-02-25T16:00:00",
          "2025-02-25T16:10:00",
          "2025-02-25T16:20:00",
          "2025-02-25T16:30:00",
          "2025-02-25T16:40:00",
          "2025-02-25T16:50:00",
          "2025-02-25T17:00:00",
          "2025-02-25T17:10:00",
          "2025-02-25T17:30:00",
          "2025-02-25T17:40:00",
          "2025-02-25T17:50:00",
          "2025-02-25T18:00:00",
          "2025-02-25T18:10:00",
          "2025-02-25T18:20:00",
          "2025-02-25T18:30:00",
          "2025-02-25T18:40:00",
          "2025-02-25T18:50:00",
          "2025-02-25T19:00:00",
          "2025-02-25T19:10:00",
          "2025-02-25T19:20:00",
          "2025-02-25T19:30:00",
          "2025-02-25T19:50:00",
          "2025-02-25T20:00:00",
          "2025-02-25T20:20:00",
          "2025-02-25T20:30:00",
          "2025-02-25T20:40:00",
          "2025-02-25T20:50:00",
          "2025-02-25T21:00:00",
          "2025-02-25T21:10:00",
          "2025-02-25T21:20:00",
          "2025-02-25T21:30:00",
          "2025-02-25T21:40:00",
          "2025-02-25T21:50:00",
          "2025-02-25T22:10:00",
          "2025-02-25T22:20:00",
          "2025-02-25T22:30:00",
          "2025-02-25T22:40:00",
          "2025-02-25T22:50:00",
          "2025-02-25T23:00:00",
          "2025-02-25T23:10:00",
          "2025-02-25T23:20:00",
          "2025-02-25T23:30:00",
          "2025-02-25T23:40:00",
          "2025-02-25T23:50:00"
         ],
         "y": {
          "bdata": "AAAAAAAA8D/0xzgHHAjwP8JyJBPkBfA/hPEuJkMF8D8qr4fI+f7vP4lauTZ+8e8/cxaJgo8D8D8w2fTAwwHwP3Bm0K3f++8/wpToR2vw7z9dQ+HdGATwP0DeRzyMBvA/ovyU0lgG8D/3TQefkQnwPxv/f6yaB/A/RdaGonQH8D8TVY47rgnwPymcEb7xDfA/gjmsxjYI8D+1zgL3/wfwP+bpMyqp/O8/n+Dys64I8D8jo5jXOQ/wP+oLkUGsEPA/JkucfTwL8D/VeyIqxf7vP4ZU4PAw++8/ypZQ3Z/47z879eUmHe/vP9DPkTWe7u8/6kxAp7DV7z9pr8/T9a/vP4UqhA+0oe8/68iSg8if7z9QbANYNZPvP7UnNztTg+8/ocZRJiRw7z/48dfdTJHvPzRSOiXxru8/XJmPqnOf7z+UJwQP27rvPyBxSmLqpu8/T9UpxRGm7z+0t6JVQJnvP+QDOXQBou8/q3b/WqbH7z/ZqO2QEcjvP1JBHcuN1e8/+thqQAPK7z+8E6+58a3vP26huylGtO8/VFC9tuG77z/ASBEC96LvP8R5DgVOne8/mfPFH7mW7z/EwOk8sYjvP/X5mHdkkO8/JQcn2mOZ7z+KmaoAF4HvPxc7KhNJdO8/GFo0XPdx7z+0gG0VIIXvP+aS16LCie8/evPXfm6E7z9Kkz8UAaDvP7RtaOQdpO8/raVTHkF27z+aF1kH+V/vP0kMIdXPc+8/MXPiJp177z8gYlfqhJDvP5N0XA81du8/lIZPyd1y7z+snbw8iErvP51QPuKgL+8/m5AlbBhK7z+phUEzKgHvPx2jY7GL8u4/RJJMzkcS7z/gGaQ5jvzuP6wV8thEze4/KrQDSlPH7j9AMS8A1rHuPyip+0xRpe4/OLr3Ym+g7j+yGtf0LL/uP943+Wzlsu4/0JpnW46s7j9g6lNLR8XuP8opXJCGwe4/T43cbAuj7j9iFQcvS7nuPwN2flscve4/F+GDrlLh7j9tNPCw39nuP/Cpyy/O0e4/egtbx0O07j/smkCgKdXuP8ouGm413e4/ut+DkAXt7j9BptRPqefuP5Tn3L6H0+4/VQs993rV7j90YQI509/uP5VYMiVc+O4/LdCQDE7b7j8IYRcMBc3uP4yS+Uff3+4/aBCZY4jQ7j80zMPe3sbuP8U/q56Ywu4/XaR1Lo7U7j+XelEM/cXuP33ThOnPy+4/6F8jX8vJ7j/vIQxTSdHuP27ArOpRu+4/UjC7F9us7j+pW+VRrafuP43xOxGdoe4/hTYLMSKr7j8f6gmq0Y3uP9ZXsL5ReO4/7a8fJBJF7j/rVy5qQvHtP3dOnV6Hy+0/AFZMjZfh7T8l6p8rl+3tP8RBuJoiG+4/fUQgv30d7j/yK3vxbgXuP8sqdWKrFe4/ksDdgFD97T8GTJG9K+3tP1sy2vXu8e0/9b2WpuPW7T9Agh1ZCKvtP5RjdQp5yu0/I/lUc5q97T8W+viKE4/tP9V0lWd/ne0/EVimIehv7T9cVkQJfF7tPzGa+D2Oju0/z4ijHpZs7T+qKQVVrYXtP4j4EMDGgu0/U47zqLZw7T/j0WmnvVztP9u7W0Mzn+0/CupAsUbL7T+8EXGRzt7tPz66qzEp4O0/sBZHRVLh7T9skmZyHeTtPzFtp6GMy+0//uL88G7H7T8W2xcWGO7tPyHlwwD08e0/IlLnyr3l7T9QgvkXydDtP1HE+CSJwO0/bww54yu/7T8tiVUrobztP7lT/8SIvu0/7rRqkkHK7T+N02jnB9jtP/27W8YHnu0/91F3Uo9N7T9iX6y3BivtP9i8TdceHe0/10eTK5z97D98VLCoQ/vsP2+ty69BGu0/RUIf3Wcg7T9U/ygsHS/tP5tKaa/XEu0/8LSbpWsN7T+7IlEiUOfsPw5WEj7bDe0/LRfjxrQ27T9A6r7fC0PtP8vXXT0FN+0/Tb8vwBso7T+oSMh8tEbtP//mX6CjO+0/x/+0YW8e7T8wQZmPDjDtP+iF4nM1Qu0/9hngiCki7T8fvkr4cRXtPx8aRXqZPe0/D/29Fhos7T+pPMxVTSDtP0liEeUQL+0/qsKvSXIL7T8Da2eraBHtPyoECE4RKe0/6tsq7khK7T/koV1UpmntP+IyVbA3au0/qkYqxLZ37T/A3cHIpqrtP60rWwhYoe0/fcv1Ro6G7T+HU0HQ53ntP1LUyNQqa+0/m5HVo6507T+ZZCiKVovtP9Tt5wFUge0/KecCwnWd7T8fnMW+ibTtP9yha1WK4+0/H7P8i5bG7T8+SeXxTqvtPzdK0Cpvue0/X++ojme37T+hpO5MtMjtP/02V6CYze0/kXJ93o3K7T8eDb+nB7PtP6BxFWH9uO0/raQJIIOr7T/HdBUmFZ7tPy3DtGVjiu0/ei3VeW2Y7T/8mvvJroTtPx7UuenxfO0//XG85kmM7T8Ud5Idoo3tP7t6dxs9i+0/UHYJXMyd7T/RMxC62avtP47+RYNqn+0/Y7V8/Uiz7T8ju0nSgrjtP7acwlC2su0/dFzGZOaw7T/sDSeiw8XtP+wKoSrL5e0/KqToTBfT7T8B4/zwbsftP2g8M1S5xe0/xOhY7KK87T/CYJAe2cXtP9aTeHL0xO0/FEEAEU/U7T/iCbzl9dHtP9FU7fqiyO0/RYlkkwWs7T8=",
          "dtype": "f8"
         }
        }
       ],
       "layout": {
        "height": 600,
        "hovermode": "x unified",
        "legend": {
         "orientation": "h",
         "x": 1,
         "xanchor": "right",
         "y": 1.02,
         "yanchor": "bottom"
        },
        "template": {
         "data": {
          "bar": [
           {
            "error_x": {
             "color": "#2a3f5f"
            },
            "error_y": {
             "color": "#2a3f5f"
            },
            "marker": {
             "line": {
              "color": "white",
              "width": 0.5
             },
             "pattern": {
              "fillmode": "overlay",
              "size": 10,
              "solidity": 0.2
             }
            },
            "type": "bar"
           }
          ],
          "barpolar": [
           {
            "marker": {
             "line": {
              "color": "white",
              "width": 0.5
             },
             "pattern": {
              "fillmode": "overlay",
              "size": 10,
              "solidity": 0.2
             }
            },
            "type": "barpolar"
           }
          ],
          "carpet": [
           {
            "aaxis": {
             "endlinecolor": "#2a3f5f",
             "gridcolor": "#C8D4E3",
             "linecolor": "#C8D4E3",
             "minorgridcolor": "#C8D4E3",
             "startlinecolor": "#2a3f5f"
            },
            "baxis": {
             "endlinecolor": "#2a3f5f",
             "gridcolor": "#C8D4E3",
             "linecolor": "#C8D4E3",
             "minorgridcolor": "#C8D4E3",
             "startlinecolor": "#2a3f5f"
            },
            "type": "carpet"
           }
          ],
          "choropleth": [
           {
            "colorbar": {
             "outlinewidth": 0,
             "ticks": ""
            },
            "type": "choropleth"
           }
          ],
          "contour": [
           {
            "colorbar": {
             "outlinewidth": 0,
             "ticks": ""
            },
            "colorscale": [
             [
              0,
              "#0d0887"
             ],
             [
              0.1111111111111111,
              "#46039f"
             ],
             [
              0.2222222222222222,
              "#7201a8"
             ],
             [
              0.3333333333333333,
              "#9c179e"
             ],
             [
              0.4444444444444444,
              "#bd3786"
             ],
             [
              0.5555555555555556,
              "#d8576b"
             ],
             [
              0.6666666666666666,
              "#ed7953"
             ],
             [
              0.7777777777777778,
              "#fb9f3a"
             ],
             [
              0.8888888888888888,
              "#fdca26"
             ],
             [
              1,
              "#f0f921"
             ]
            ],
            "type": "contour"
           }
          ],
          "contourcarpet": [
           {
            "colorbar": {
             "outlinewidth": 0,
             "ticks": ""
            },
            "type": "contourcarpet"
           }
          ],
          "heatmap": [
           {
            "colorbar": {
             "outlinewidth": 0,
             "ticks": ""
            },
            "colorscale": [
             [
              0,
              "#0d0887"
             ],
             [
              0.1111111111111111,
              "#46039f"
             ],
             [
              0.2222222222222222,
              "#7201a8"
             ],
             [
              0.3333333333333333,
              "#9c179e"
             ],
             [
              0.4444444444444444,
              "#bd3786"
             ],
             [
              0.5555555555555556,
              "#d8576b"
             ],
             [
              0.6666666666666666,
              "#ed7953"
             ],
             [
              0.7777777777777778,
              "#fb9f3a"
             ],
             [
              0.8888888888888888,
              "#fdca26"
             ],
             [
              1,
              "#f0f921"
             ]
            ],
            "type": "heatmap"
           }
          ],
          "histogram": [
           {
            "marker": {
             "pattern": {
              "fillmode": "overlay",
              "size": 10,
              "solidity": 0.2
             }
            },
            "type": "histogram"
           }
          ],
          "histogram2d": [
           {
            "colorbar": {
             "outlinewidth": 0,
             "ticks": ""
            },
            "colorscale": [
             [
              0,
              "#0d0887"
             ],
             [
              0.1111111111111111,
              "#46039f"
             ],
             [
              0.2222222222222222,
              "#7201a8"
             ],
             [
              0.3333333333333333,
              "#9c179e"
             ],
             [
              0.4444444444444444,
              "#bd3786"
             ],
             [
              0.5555555555555556,
              "#d8576b"
             ],
             [
              0.6666666666666666,
              "#ed7953"
             ],
             [
              0.7777777777777778,
              "#fb9f3a"
             ],
             [
              0.8888888888888888,
              "#fdca26"
             ],
             [
              1,
              "#f0f921"
             ]
            ],
            "type": "histogram2d"
           }
          ],
          "histogram2dcontour": [
           {
            "colorbar": {
             "outlinewidth": 0,
             "ticks": ""
            },
            "colorscale": [
             [
              0,
              "#0d0887"
             ],
             [
              0.1111111111111111,
              "#46039f"
             ],
             [
              0.2222222222222222,
              "#7201a8"
             ],
             [
              0.3333333333333333,
              "#9c179e"
             ],
             [
              0.4444444444444444,
              "#bd3786"
             ],
             [
              0.5555555555555556,
              "#d8576b"
             ],
             [
              0.6666666666666666,
              "#ed7953"
             ],
             [
              0.7777777777777778,
              "#fb9f3a"
             ],
             [
              0.8888888888888888,
              "#fdca26"
             ],
             [
              1,
              "#f0f921"
             ]
            ],
            "type": "histogram2dcontour"
           }
          ],
          "mesh3d": [
           {
            "colorbar": {
             "outlinewidth": 0,
             "ticks": ""
            },
            "type": "mesh3d"
           }
          ],
          "parcoords": [
           {
            "line": {
             "colorbar": {
              "outlinewidth": 0,
              "ticks": ""
             }
            },
            "type": "parcoords"
           }
          ],
          "pie": [
           {
            "automargin": true,
            "type": "pie"
           }
          ],
          "scatter": [
           {
            "fillpattern": {
             "fillmode": "overlay",
             "size": 10,
             "solidity": 0.2
            },
            "type": "scatter"
           }
          ],
          "scatter3d": [
           {
            "line": {
             "colorbar": {
              "outlinewidth": 0,
              "ticks": ""
             }
            },
            "marker": {
             "colorbar": {
              "outlinewidth": 0,
              "ticks": ""
             }
            },
            "type": "scatter3d"
           }
          ],
          "scattercarpet": [
           {
            "marker": {
             "colorbar": {
              "outlinewidth": 0,
              "ticks": ""
             }
            },
            "type": "scattercarpet"
           }
          ],
          "scattergeo": [
           {
            "marker": {
             "colorbar": {
              "outlinewidth": 0,
              "ticks": ""
             }
            },
            "type": "scattergeo"
           }
          ],
          "scattergl": [
           {
            "marker": {
             "colorbar": {
              "outlinewidth": 0,
              "ticks": ""
             }
            },
            "type": "scattergl"
           }
          ],
          "scattermap": [
           {
            "marker": {
             "colorbar": {
              "outlinewidth": 0,
              "ticks": ""
             }
            },
            "type": "scattermap"
           }
          ],
          "scattermapbox": [
           {
            "marker": {
             "colorbar": {
              "outlinewidth": 0,
              "ticks": ""
             }
            },
            "type": "scattermapbox"
           }
          ],
          "scatterpolar": [
           {
            "marker": {
             "colorbar": {
              "outlinewidth": 0,
              "ticks": ""
             }
            },
            "type": "scatterpolar"
           }
          ],
          "scatterpolargl": [
           {
            "marker": {
             "colorbar": {
              "outlinewidth": 0,
              "ticks": ""
             }
            },
            "type": "scatterpolargl"
           }
          ],
          "scatterternary": [
           {
            "marker": {
             "colorbar": {
              "outlinewidth": 0,
              "ticks": ""
             }
            },
            "type": "scatterternary"
           }
          ],
          "surface": [
           {
            "colorbar": {
             "outlinewidth": 0,
             "ticks": ""
            },
            "colorscale": [
             [
              0,
              "#0d0887"
             ],
             [
              0.1111111111111111,
              "#46039f"
             ],
             [
              0.2222222222222222,
              "#7201a8"
             ],
             [
              0.3333333333333333,
              "#9c179e"
             ],
             [
              0.4444444444444444,
              "#bd3786"
             ],
             [
              0.5555555555555556,
              "#d8576b"
             ],
             [
              0.6666666666666666,
              "#ed7953"
             ],
             [
              0.7777777777777778,
              "#fb9f3a"
             ],
             [
              0.8888888888888888,
              "#fdca26"
             ],
             [
              1,
              "#f0f921"
             ]
            ],
            "type": "surface"
           }
          ],
          "table": [
           {
            "cells": {
             "fill": {
              "color": "#EBF0F8"
             },
             "line": {
              "color": "white"
             }
            },
            "header": {
             "fill": {
              "color": "#C8D4E3"
             },
             "line": {
              "color": "white"
             }
            },
            "type": "table"
           }
          ]
         },
         "layout": {
          "annotationdefaults": {
           "arrowcolor": "#2a3f5f",
           "arrowhead": 0,
           "arrowwidth": 1
          },
          "autotypenumbers": "strict",
          "coloraxis": {
           "colorbar": {
            "outlinewidth": 0,
            "ticks": ""
           }
          },
          "colorscale": {
           "diverging": [
            [
             0,
             "#8e0152"
            ],
            [
             0.1,
             "#c51b7d"
            ],
            [
             0.2,
             "#de77ae"
            ],
            [
             0.3,
             "#f1b6da"
            ],
            [
             0.4,
             "#fde0ef"
            ],
            [
             0.5,
             "#f7f7f7"
            ],
            [
             0.6,
             "#e6f5d0"
            ],
            [
             0.7,
             "#b8e186"
            ],
            [
             0.8,
             "#7fbc41"
            ],
            [
             0.9,
             "#4d9221"
            ],
            [
             1,
             "#276419"
            ]
           ],
           "sequential": [
            [
             0,
             "#0d0887"
            ],
            [
             0.1111111111111111,
             "#46039f"
            ],
            [
             0.2222222222222222,
             "#7201a8"
            ],
            [
             0.3333333333333333,
             "#9c179e"
            ],
            [
             0.4444444444444444,
             "#bd3786"
            ],
            [
             0.5555555555555556,
             "#d8576b"
            ],
            [
             0.6666666666666666,
             "#ed7953"
            ],
            [
             0.7777777777777778,
             "#fb9f3a"
            ],
            [
             0.8888888888888888,
             "#fdca26"
            ],
            [
             1,
             "#f0f921"
            ]
           ],
           "sequentialminus": [
            [
             0,
             "#0d0887"
            ],
            [
             0.1111111111111111,
             "#46039f"
            ],
            [
             0.2222222222222222,
             "#7201a8"
            ],
            [
             0.3333333333333333,
             "#9c179e"
            ],
            [
             0.4444444444444444,
             "#bd3786"
            ],
            [
             0.5555555555555556,
             "#d8576b"
            ],
            [
             0.6666666666666666,
             "#ed7953"
            ],
            [
             0.7777777777777778,
             "#fb9f3a"
            ],
            [
             0.8888888888888888,
             "#fdca26"
            ],
            [
             1,
             "#f0f921"
            ]
           ]
          },
          "colorway": [
           "#636efa",
           "#EF553B",
           "#00cc96",
           "#ab63fa",
           "#FFA15A",
           "#19d3f3",
           "#FF6692",
           "#B6E880",
           "#FF97FF",
           "#FECB52"
          ],
          "font": {
           "color": "#2a3f5f"
          },
          "geo": {
           "bgcolor": "white",
           "lakecolor": "white",
           "landcolor": "white",
           "showlakes": true,
           "showland": true,
           "subunitcolor": "#C8D4E3"
          },
          "hoverlabel": {
           "align": "left"
          },
          "hovermode": "closest",
          "mapbox": {
           "style": "light"
          },
          "paper_bgcolor": "white",
          "plot_bgcolor": "white",
          "polar": {
           "angularaxis": {
            "gridcolor": "#EBF0F8",
            "linecolor": "#EBF0F8",
            "ticks": ""
           },
           "bgcolor": "white",
           "radialaxis": {
            "gridcolor": "#EBF0F8",
            "linecolor": "#EBF0F8",
            "ticks": ""
           }
          },
          "scene": {
           "xaxis": {
            "backgroundcolor": "white",
            "gridcolor": "#DFE8F3",
            "gridwidth": 2,
            "linecolor": "#EBF0F8",
            "showbackground": true,
            "ticks": "",
            "zerolinecolor": "#EBF0F8"
           },
           "yaxis": {
            "backgroundcolor": "white",
            "gridcolor": "#DFE8F3",
            "gridwidth": 2,
            "linecolor": "#EBF0F8",
            "showbackground": true,
            "ticks": "",
            "zerolinecolor": "#EBF0F8"
           },
           "zaxis": {
            "backgroundcolor": "white",
            "gridcolor": "#DFE8F3",
            "gridwidth": 2,
            "linecolor": "#EBF0F8",
            "showbackground": true,
            "ticks": "",
            "zerolinecolor": "#EBF0F8"
           }
          },
          "shapedefaults": {
           "line": {
            "color": "#2a3f5f"
           }
          },
          "ternary": {
           "aaxis": {
            "gridcolor": "#DFE8F3",
            "linecolor": "#A2B1C6",
            "ticks": ""
           },
           "baxis": {
            "gridcolor": "#DFE8F3",
            "linecolor": "#A2B1C6",
            "ticks": ""
           },
           "bgcolor": "white",
           "caxis": {
            "gridcolor": "#DFE8F3",
            "linecolor": "#A2B1C6",
            "ticks": ""
           }
          },
          "title": {
           "x": 0.05
          },
          "xaxis": {
           "automargin": true,
           "gridcolor": "#EBF0F8",
           "linecolor": "#EBF0F8",
           "ticks": "",
           "title": {
            "standoff": 15
           },
           "zerolinecolor": "#EBF0F8",
           "zerolinewidth": 2
          },
          "yaxis": {
           "automargin": true,
           "gridcolor": "#EBF0F8",
           "linecolor": "#EBF0F8",
           "ticks": "",
           "title": {
            "standoff": 15
           },
           "zerolinecolor": "#EBF0F8",
           "zerolinewidth": 2
          }
         }
        },
        "title": {
         "text": "<b>Equity Curves Comparison<b>"
        },
        "width": 1000,
        "xaxis": {
         "title": {
          "text": "<b>Date<b>"
         }
        },
        "yaxis": {
         "title": {
          "text": "<b>Normalized Performance</b>"
         }
        }
       }
      }
     },
     "metadata": {},
     "output_type": "display_data"
    }
   ],
   "source": [
    "from trading_package.models import MarketData\n",
    "from trading_package.strategies import CrossoverStrategies, TradeGenerator\n",
    "from trading_package.utils import PerformanceCalculator\n",
    "from trading_package.visualization import TradingVisualizer\n",
    "\n",
    "# Create MarketData object\n",
    "market_data = MarketData(df=backtest_data)\n",
    "print(f\"Created market data with {len(backtest_data)} rows.\")\n",
    "\n",
    "print(\"\\nGenerating Strategies signals...\")\n",
    "# # Create Custom strategy\n",
    "market_data_custom = market_data.model_copy()\n",
    "custom_strategies = []\n",
    "\n",
    "for strategy_name in strategies:\n",
    "    strategy_data = signals_data[signals_data['strategy_name'] == strategy_name].copy()\n",
    "    market_data_custom.df.loc[:, 'signal'] = strategy_data['signal'].values\n",
    "    market_data_custom.df.loc[:, 'position'] = strategy_data['position'].values\n",
    "    strategy = CrossoverStrategies.custom_signals(\n",
    "                market_data=market_data_custom,\n",
    "                signal_col=\"signal\",\n",
    "                position_col=\"position\",\n",
    "                strategy_name=strategy_name)\n",
    "    custom_strategies.append(strategy)\n",
    "\n",
    "# Create SMA crossover strategy\n",
    "sma_strategy = CrossoverStrategies.sma_crossover(\n",
    "    market_data=market_data,\n",
    "    short_window=6,\n",
    "    long_window=24,\n",
    "    strategy_name=\"SMA_Crossover\"\n",
    ")\n",
    "# Create Bollinger Bands strategy\n",
    "bollinger_strategy = CrossoverStrategies.bollinger_bands_strategy(\n",
    "    market_data=market_data,\n",
    "    window=20,\n",
    "    num_std=1.5,\n",
    "    strategy_name=\"BollingerBands\"\n",
    ")\n",
    "\n",
    "# Generate trades for Custom strategy\n",
    "print(\"\\nGenerating trades for strategies...\")\n",
    "custom_trades = TradeGenerator.generate_trade_dataframe(\n",
    "    strategy_signals=custom_strategies[0]\n",
    ")\n",
    "# custom_trades1 = TradeGenerator.generate_trade_dataframe(\n",
    "#     strategy_signals=custom_strategies[1]\n",
    "# )\n",
    "# custom_trades2 = TradeGenerator.generate_trade_dataframe(\n",
    "#     strategy_signals=custom_strategies[2]\n",
    "# )\n",
    "\n",
    "# Generate trades for SMA strategy\n",
    "sma_trades = TradeGenerator.generate_trade_dataframe(\n",
    "    strategy_signals=sma_strategy\n",
    ")\n",
    "\n",
    "# Generate trades for Bollinger Bands strategy\n",
    "bollinger_trades = TradeGenerator.generate_trade_dataframe(\n",
    "    strategy_signals=bollinger_strategy\n",
    ")\n",
    "\n",
    "# Calculate performance metrics for Custom strategy\n",
    "print(\"\\nCalculating performance metrics for strategies...\")\n",
    "custom_metrics = PerformanceCalculator.calculate_performance_metrics(\n",
    "    trades_data=custom_trades,\n",
    "    market_data=custom_strategies[0]  # Pass the strategy object instead of market_data\n",
    ")\n",
    "# custom_metrics1 = PerformanceCalculator.calculate_performance_metrics(\n",
    "#     trades_data=custom_trades1,\n",
    "#     market_data=custom_strategies[1]  # Pass the strategy object instead of market_data\n",
    "# )\n",
    "# custom_metrics2 = PerformanceCalculator.calculate_performance_metrics(\n",
    "#     trades_data=custom_trades2,\n",
    "#     market_data=custom_strategies[2] # Pass the strategy object instead of market_data\n",
    "# )\n",
    "\n",
    "# Calculate performance metrics for SMA strategy\n",
    "sma_metrics = PerformanceCalculator.calculate_performance_metrics(\n",
    "    trades_data=sma_trades,\n",
    "    market_data=sma_strategy  # Pass the strategy object instead of market_data\n",
    ")\n",
    "\n",
    "# Calculate performance metrics for Bollinger Bands strategy\n",
    "bollinger_metrics = PerformanceCalculator.calculate_performance_metrics(\n",
    "    trades_data=bollinger_trades,\n",
    "    market_data=bollinger_strategy  # Pass the strategy object instead of market_data\n",
    ")\n",
    "\n",
    "# Compare performance metrics\n",
    "print(\"\\nCreating performance comparison visualization...\")\n",
    "metrics_fig = TradingVisualizer.plot_performance_comparison(\n",
    "    performance_metrics_list=[\n",
    "                            custom_metrics,\n",
    "                            #   custom_metrics1,\n",
    "                            #   custom_metrics2,\n",
    "                              sma_metrics,\n",
    "                              bollinger_metrics],\n",
    "    title=\"Strategy Performance Comparison\",\n",
    "    dark_mode=False\n",
    ")\n",
    "metrics_fig.show()\n",
    "\n",
    "# Plot equity curve\n",
    "custom_equity_curve = PerformanceCalculator.get_equity_curves(custom_strategies[0], custom_trades)\n",
    "# custom_equity_curve1 = PerformanceCalculator.get_equity_curves(custom_strategies[1], custom_trades1)\n",
    "# custom_equity_curve2 = PerformanceCalculator.get_equity_curves(custom_strategies[2], custom_trades2)\n",
    "sma_equity_curve = PerformanceCalculator.get_equity_curves(sma_strategy, sma_trades)\n",
    "bollinger_equity_curve = PerformanceCalculator.get_equity_curves(bollinger_strategy, bollinger_trades)\n",
    "\n",
    "print(\"\\nCreating equity curves visualization...\")\n",
    "equity_fig = TradingVisualizer.plot_equity_curves(\n",
    "    equity_curves=[\n",
    "        sma_equity_curve,\n",
    "        bollinger_equity_curve,\n",
    "        custom_equity_curve,\n",
    "        # custom_equity_curve1,\n",
    "        # custom_equity_curve2\n",
    "    ],\n",
    "    title=\"Equity Curves Comparison\",\n",
    "    dark_mode=False,\n",
    "    width=1000,\n",
    "    height=600,\n",
    ")\n",
    "equity_fig.show()\n"
   ]
  },
  {
   "cell_type": "markdown",
   "metadata": {},
   "source": [
    "# Backtetsing Library Strategies Example"
   ]
  },
  {
   "cell_type": "code",
   "execution_count": 11,
   "metadata": {},
   "outputs": [
    {
     "name": "stdout",
     "output_type": "stream",
     "text": [
      "\n",
      "Key metrics for SMA strategy:\n",
      "  Return [%]: 3.3002881858499533\n",
      "  Sortino Ratio: 15.108310288729333\n",
      "  Max. Drawdown [%]: -2.597684340876527\n"
     ]
    },
    {
     "data": {
      "application/vnd.plotly.v1+json": {
       "config": {
        "plotlyServerURL": "https://plot.ly"
       },
       "data": [
        {
         "line": {
          "color": "#F2A900",
          "width": 2
         },
         "mode": "lines",
         "name": "Price",
         "showlegend": false,
         "type": "scatter",
         "x": [
          "2025-02-24T00:00:00",
          "2025-02-24T00:20:00",
          "2025-02-24T00:30:00",
          "2025-02-24T00:40:00",
          "2025-02-24T01:00:00",
          "2025-02-24T01:10:00",
          "2025-02-24T01:20:00",
          "2025-02-24T01:30:00",
          "2025-02-24T01:40:00",
          "2025-02-24T01:50:00",
          "2025-02-24T02:00:00",
          "2025-02-24T02:10:00",
          "2025-02-24T02:20:00",
          "2025-02-24T02:30:00",
          "2025-02-24T02:40:00",
          "2025-02-24T02:50:00",
          "2025-02-24T03:00:00",
          "2025-02-24T03:10:00",
          "2025-02-24T03:20:00",
          "2025-02-24T03:30:00",
          "2025-02-24T03:40:00",
          "2025-02-24T03:50:00",
          "2025-02-24T04:00:00",
          "2025-02-24T04:10:00",
          "2025-02-24T04:20:00",
          "2025-02-24T04:30:00",
          "2025-02-24T04:40:00",
          "2025-02-24T04:50:00",
          "2025-02-24T05:00:00",
          "2025-02-24T05:10:00",
          "2025-02-24T05:20:00",
          "2025-02-24T05:30:00",
          "2025-02-24T05:40:00",
          "2025-02-24T05:50:00",
          "2025-02-24T06:00:00",
          "2025-02-24T06:10:00",
          "2025-02-24T06:20:00",
          "2025-02-24T06:30:00",
          "2025-02-24T06:40:00",
          "2025-02-24T06:50:00",
          "2025-02-24T07:00:00",
          "2025-02-24T07:10:00",
          "2025-02-24T07:20:00",
          "2025-02-24T07:30:00",
          "2025-02-24T07:40:00",
          "2025-02-24T07:50:00",
          "2025-02-24T08:00:00",
          "2025-02-24T08:10:00",
          "2025-02-24T08:20:00",
          "2025-02-24T08:30:00",
          "2025-02-24T08:40:00",
          "2025-02-24T08:50:00",
          "2025-02-24T09:00:00",
          "2025-02-24T09:10:00",
          "2025-02-24T09:20:00",
          "2025-02-24T09:30:00",
          "2025-02-24T09:40:00",
          "2025-02-24T09:50:00",
          "2025-02-24T10:00:00",
          "2025-02-24T10:10:00",
          "2025-02-24T10:20:00",
          "2025-02-24T10:30:00",
          "2025-02-24T10:40:00",
          "2025-02-24T10:50:00",
          "2025-02-24T11:00:00",
          "2025-02-24T11:10:00",
          "2025-02-24T11:20:00",
          "2025-02-24T11:30:00",
          "2025-02-24T11:40:00",
          "2025-02-24T11:50:00",
          "2025-02-24T12:00:00",
          "2025-02-24T12:10:00",
          "2025-02-24T12:20:00",
          "2025-02-24T12:30:00",
          "2025-02-24T12:40:00",
          "2025-02-24T12:50:00",
          "2025-02-24T13:00:00",
          "2025-02-24T13:10:00",
          "2025-02-24T13:20:00",
          "2025-02-24T13:30:00",
          "2025-02-24T13:40:00",
          "2025-02-24T14:00:00",
          "2025-02-24T14:10:00",
          "2025-02-24T14:20:00",
          "2025-02-24T14:30:00",
          "2025-02-24T14:40:00",
          "2025-02-24T14:50:00",
          "2025-02-24T15:00:00",
          "2025-02-24T15:10:00",
          "2025-02-24T15:20:00",
          "2025-02-24T15:30:00",
          "2025-02-24T15:40:00",
          "2025-02-24T15:50:00",
          "2025-02-24T16:00:00",
          "2025-02-24T16:10:00",
          "2025-02-24T16:20:00",
          "2025-02-24T16:30:00",
          "2025-02-24T16:40:00",
          "2025-02-24T16:50:00",
          "2025-02-24T17:00:00",
          "2025-02-24T17:10:00",
          "2025-02-24T17:20:00",
          "2025-02-24T17:40:00",
          "2025-02-24T17:50:00",
          "2025-02-24T18:00:00",
          "2025-02-24T18:10:00",
          "2025-02-24T18:20:00",
          "2025-02-24T18:30:00",
          "2025-02-24T18:40:00",
          "2025-02-24T18:50:00",
          "2025-02-24T19:00:00",
          "2025-02-24T19:10:00",
          "2025-02-24T19:20:00",
          "2025-02-24T19:30:00",
          "2025-02-24T19:40:00",
          "2025-02-24T19:50:00",
          "2025-02-24T20:00:00",
          "2025-02-24T20:10:00",
          "2025-02-24T20:20:00",
          "2025-02-24T20:30:00",
          "2025-02-24T20:40:00",
          "2025-02-24T21:00:00",
          "2025-02-24T21:10:00",
          "2025-02-24T21:20:00",
          "2025-02-24T21:30:00",
          "2025-02-24T21:50:00",
          "2025-02-24T22:00:00",
          "2025-02-24T22:10:00",
          "2025-02-24T22:20:00",
          "2025-02-24T22:30:00",
          "2025-02-24T22:40:00",
          "2025-02-24T22:50:00",
          "2025-02-24T23:00:00",
          "2025-02-24T23:10:00",
          "2025-02-24T23:40:00",
          "2025-02-24T23:50:00",
          "2025-02-25T00:00:00",
          "2025-02-25T00:10:00",
          "2025-02-25T00:20:00",
          "2025-02-25T00:30:00",
          "2025-02-25T00:40:00",
          "2025-02-25T00:50:00",
          "2025-02-25T01:00:00",
          "2025-02-25T01:10:00",
          "2025-02-25T01:20:00",
          "2025-02-25T01:30:00",
          "2025-02-25T01:40:00",
          "2025-02-25T01:50:00",
          "2025-02-25T02:00:00",
          "2025-02-25T02:10:00",
          "2025-02-25T02:20:00",
          "2025-02-25T02:30:00",
          "2025-02-25T02:40:00",
          "2025-02-25T02:50:00",
          "2025-02-25T03:00:00",
          "2025-02-25T03:10:00",
          "2025-02-25T03:20:00",
          "2025-02-25T03:30:00",
          "2025-02-25T03:40:00",
          "2025-02-25T03:50:00",
          "2025-02-25T04:00:00",
          "2025-02-25T04:10:00",
          "2025-02-25T04:20:00",
          "2025-02-25T04:30:00",
          "2025-02-25T04:40:00",
          "2025-02-25T04:50:00",
          "2025-02-25T05:00:00",
          "2025-02-25T05:10:00",
          "2025-02-25T05:20:00",
          "2025-02-25T05:30:00",
          "2025-02-25T05:40:00",
          "2025-02-25T05:50:00",
          "2025-02-25T06:00:00",
          "2025-02-25T06:10:00",
          "2025-02-25T06:20:00",
          "2025-02-25T06:30:00",
          "2025-02-25T06:40:00",
          "2025-02-25T06:50:00",
          "2025-02-25T07:00:00",
          "2025-02-25T07:10:00",
          "2025-02-25T07:20:00",
          "2025-02-25T07:30:00",
          "2025-02-25T07:40:00",
          "2025-02-25T07:50:00",
          "2025-02-25T08:00:00",
          "2025-02-25T08:10:00",
          "2025-02-25T08:20:00",
          "2025-02-25T08:30:00",
          "2025-02-25T08:40:00",
          "2025-02-25T08:50:00",
          "2025-02-25T09:00:00",
          "2025-02-25T09:10:00",
          "2025-02-25T09:20:00",
          "2025-02-25T09:30:00",
          "2025-02-25T09:40:00",
          "2025-02-25T09:50:00",
          "2025-02-25T10:00:00",
          "2025-02-25T10:10:00",
          "2025-02-25T10:20:00",
          "2025-02-25T10:30:00",
          "2025-02-25T10:40:00",
          "2025-02-25T10:50:00",
          "2025-02-25T11:00:00",
          "2025-02-25T11:10:00",
          "2025-02-25T11:20:00",
          "2025-02-25T11:30:00",
          "2025-02-25T11:40:00",
          "2025-02-25T11:50:00",
          "2025-02-25T12:00:00",
          "2025-02-25T12:10:00",
          "2025-02-25T12:20:00",
          "2025-02-25T12:30:00",
          "2025-02-25T12:40:00",
          "2025-02-25T12:50:00",
          "2025-02-25T13:00:00",
          "2025-02-25T13:10:00",
          "2025-02-25T13:20:00",
          "2025-02-25T13:30:00",
          "2025-02-25T13:40:00",
          "2025-02-25T13:50:00",
          "2025-02-25T14:00:00",
          "2025-02-25T14:10:00",
          "2025-02-25T14:20:00",
          "2025-02-25T14:30:00",
          "2025-02-25T14:40:00",
          "2025-02-25T14:50:00",
          "2025-02-25T15:00:00",
          "2025-02-25T15:10:00",
          "2025-02-25T15:20:00",
          "2025-02-25T15:30:00",
          "2025-02-25T15:40:00",
          "2025-02-25T15:50:00",
          "2025-02-25T16:00:00",
          "2025-02-25T16:10:00",
          "2025-02-25T16:20:00",
          "2025-02-25T16:30:00",
          "2025-02-25T16:40:00",
          "2025-02-25T16:50:00",
          "2025-02-25T17:00:00",
          "2025-02-25T17:10:00",
          "2025-02-25T17:30:00",
          "2025-02-25T17:40:00",
          "2025-02-25T17:50:00",
          "2025-02-25T18:00:00",
          "2025-02-25T18:10:00",
          "2025-02-25T18:20:00",
          "2025-02-25T18:30:00",
          "2025-02-25T18:40:00",
          "2025-02-25T18:50:00",
          "2025-02-25T19:00:00",
          "2025-02-25T19:10:00",
          "2025-02-25T19:20:00",
          "2025-02-25T19:30:00",
          "2025-02-25T19:50:00",
          "2025-02-25T20:00:00",
          "2025-02-25T20:20:00",
          "2025-02-25T20:30:00",
          "2025-02-25T20:40:00",
          "2025-02-25T20:50:00",
          "2025-02-25T21:00:00",
          "2025-02-25T21:10:00",
          "2025-02-25T21:20:00",
          "2025-02-25T21:30:00",
          "2025-02-25T21:40:00",
          "2025-02-25T21:50:00",
          "2025-02-25T22:10:00",
          "2025-02-25T22:20:00",
          "2025-02-25T22:30:00",
          "2025-02-25T22:40:00",
          "2025-02-25T22:50:00",
          "2025-02-25T23:00:00",
          "2025-02-25T23:10:00",
          "2025-02-25T23:20:00",
          "2025-02-25T23:30:00",
          "2025-02-25T23:40:00",
          "2025-02-25T23:50:00"
         ],
         "y": {
          "bdata": "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",
          "dtype": "f8"
         }
        },
        {
         "marker": {
          "color": "green",
          "size": 10,
          "symbol": "triangle-right"
         },
         "mode": "markers",
         "name": "Buy Signal",
         "type": "scatter",
         "x": [
          "2025-02-24T05:00:00",
          "2025-02-24T07:20:00",
          "2025-02-24T12:30:00",
          "2025-02-24T21:20:00",
          "2025-02-25T07:10:00",
          "2025-02-25T12:40:00",
          "2025-02-25T15:00:00",
          "2025-02-25T21:40:00"
         ],
         "y": {
          "bdata": "zczMzPBi90DNzMzMeGj3QClcj8JdO/dAuB6F60GA9kCF61G4Ts71QArXo3AVQPVAw/UoXGN39UCuR+F6+Kr1QA==",
          "dtype": "f8"
         }
        },
        {
         "marker": {
          "color": "red",
          "size": 10,
          "symbol": "triangle-left"
         },
         "mode": "markers",
         "name": "Sell Signal",
         "type": "scatter",
         "x": [
          "2025-02-24T03:40:00",
          "2025-02-24T05:40:00",
          "2025-02-24T09:10:00",
          "2025-02-24T14:00:00",
          "2025-02-25T00:10:00",
          "2025-02-25T09:30:00",
          "2025-02-25T14:20:00",
          "2025-02-25T19:30:00"
         ],
         "y": {
          "bdata": "9ihcj6ZY90BI4XoUil/3QClcj8L1VPdA16NwPUYD90CuR+F60H/2QDMzMzMznfVAcT0K15M29UDhehSus4r1QA==",
          "dtype": "f8"
         }
        }
       ],
       "layout": {
        "hoverlabel": {
         "bgcolor": "white",
         "bordercolor": "darkgray",
         "font": {
          "color": "black",
          "family": "Arial",
          "size": 14
         }
        },
        "template": {
         "data": {
          "bar": [
           {
            "error_x": {
             "color": "#f2f5fa"
            },
            "error_y": {
             "color": "#f2f5fa"
            },
            "marker": {
             "line": {
              "color": "rgb(17,17,17)",
              "width": 0.5
             },
             "pattern": {
              "fillmode": "overlay",
              "size": 10,
              "solidity": 0.2
             }
            },
            "type": "bar"
           }
          ],
          "barpolar": [
           {
            "marker": {
             "line": {
              "color": "rgb(17,17,17)",
              "width": 0.5
             },
             "pattern": {
              "fillmode": "overlay",
              "size": 10,
              "solidity": 0.2
             }
            },
            "type": "barpolar"
           }
          ],
          "carpet": [
           {
            "aaxis": {
             "endlinecolor": "#A2B1C6",
             "gridcolor": "#506784",
             "linecolor": "#506784",
             "minorgridcolor": "#506784",
             "startlinecolor": "#A2B1C6"
            },
            "baxis": {
             "endlinecolor": "#A2B1C6",
             "gridcolor": "#506784",
             "linecolor": "#506784",
             "minorgridcolor": "#506784",
             "startlinecolor": "#A2B1C6"
            },
            "type": "carpet"
           }
          ],
          "choropleth": [
           {
            "colorbar": {
             "outlinewidth": 0,
             "ticks": ""
            },
            "type": "choropleth"
           }
          ],
          "contour": [
           {
            "colorbar": {
             "outlinewidth": 0,
             "ticks": ""
            },
            "colorscale": [
             [
              0,
              "#0d0887"
             ],
             [
              0.1111111111111111,
              "#46039f"
             ],
             [
              0.2222222222222222,
              "#7201a8"
             ],
             [
              0.3333333333333333,
              "#9c179e"
             ],
             [
              0.4444444444444444,
              "#bd3786"
             ],
             [
              0.5555555555555556,
              "#d8576b"
             ],
             [
              0.6666666666666666,
              "#ed7953"
             ],
             [
              0.7777777777777778,
              "#fb9f3a"
             ],
             [
              0.8888888888888888,
              "#fdca26"
             ],
             [
              1,
              "#f0f921"
             ]
            ],
            "type": "contour"
           }
          ],
          "contourcarpet": [
           {
            "colorbar": {
             "outlinewidth": 0,
             "ticks": ""
            },
            "type": "contourcarpet"
           }
          ],
          "heatmap": [
           {
            "colorbar": {
             "outlinewidth": 0,
             "ticks": ""
            },
            "colorscale": [
             [
              0,
              "#0d0887"
             ],
             [
              0.1111111111111111,
              "#46039f"
             ],
             [
              0.2222222222222222,
              "#7201a8"
             ],
             [
              0.3333333333333333,
              "#9c179e"
             ],
             [
              0.4444444444444444,
              "#bd3786"
             ],
             [
              0.5555555555555556,
              "#d8576b"
             ],
             [
              0.6666666666666666,
              "#ed7953"
             ],
             [
              0.7777777777777778,
              "#fb9f3a"
             ],
             [
              0.8888888888888888,
              "#fdca26"
             ],
             [
              1,
              "#f0f921"
             ]
            ],
            "type": "heatmap"
           }
          ],
          "histogram": [
           {
            "marker": {
             "pattern": {
              "fillmode": "overlay",
              "size": 10,
              "solidity": 0.2
             }
            },
            "type": "histogram"
           }
          ],
          "histogram2d": [
           {
            "colorbar": {
             "outlinewidth": 0,
             "ticks": ""
            },
            "colorscale": [
             [
              0,
              "#0d0887"
             ],
             [
              0.1111111111111111,
              "#46039f"
             ],
             [
              0.2222222222222222,
              "#7201a8"
             ],
             [
              0.3333333333333333,
              "#9c179e"
             ],
             [
              0.4444444444444444,
              "#bd3786"
             ],
             [
              0.5555555555555556,
              "#d8576b"
             ],
             [
              0.6666666666666666,
              "#ed7953"
             ],
             [
              0.7777777777777778,
              "#fb9f3a"
             ],
             [
              0.8888888888888888,
              "#fdca26"
             ],
             [
              1,
              "#f0f921"
             ]
            ],
            "type": "histogram2d"
           }
          ],
          "histogram2dcontour": [
           {
            "colorbar": {
             "outlinewidth": 0,
             "ticks": ""
            },
            "colorscale": [
             [
              0,
              "#0d0887"
             ],
             [
              0.1111111111111111,
              "#46039f"
             ],
             [
              0.2222222222222222,
              "#7201a8"
             ],
             [
              0.3333333333333333,
              "#9c179e"
             ],
             [
              0.4444444444444444,
              "#bd3786"
             ],
             [
              0.5555555555555556,
              "#d8576b"
             ],
             [
              0.6666666666666666,
              "#ed7953"
             ],
             [
              0.7777777777777778,
              "#fb9f3a"
             ],
             [
              0.8888888888888888,
              "#fdca26"
             ],
             [
              1,
              "#f0f921"
             ]
            ],
            "type": "histogram2dcontour"
           }
          ],
          "mesh3d": [
           {
            "colorbar": {
             "outlinewidth": 0,
             "ticks": ""
            },
            "type": "mesh3d"
           }
          ],
          "parcoords": [
           {
            "line": {
             "colorbar": {
              "outlinewidth": 0,
              "ticks": ""
             }
            },
            "type": "parcoords"
           }
          ],
          "pie": [
           {
            "automargin": true,
            "type": "pie"
           }
          ],
          "scatter": [
           {
            "marker": {
             "line": {
              "color": "#283442"
             }
            },
            "type": "scatter"
           }
          ],
          "scatter3d": [
           {
            "line": {
             "colorbar": {
              "outlinewidth": 0,
              "ticks": ""
             }
            },
            "marker": {
             "colorbar": {
              "outlinewidth": 0,
              "ticks": ""
             }
            },
            "type": "scatter3d"
           }
          ],
          "scattercarpet": [
           {
            "marker": {
             "colorbar": {
              "outlinewidth": 0,
              "ticks": ""
             }
            },
            "type": "scattercarpet"
           }
          ],
          "scattergeo": [
           {
            "marker": {
             "colorbar": {
              "outlinewidth": 0,
              "ticks": ""
             }
            },
            "type": "scattergeo"
           }
          ],
          "scattergl": [
           {
            "marker": {
             "line": {
              "color": "#283442"
             }
            },
            "type": "scattergl"
           }
          ],
          "scattermap": [
           {
            "marker": {
             "colorbar": {
              "outlinewidth": 0,
              "ticks": ""
             }
            },
            "type": "scattermap"
           }
          ],
          "scattermapbox": [
           {
            "marker": {
             "colorbar": {
              "outlinewidth": 0,
              "ticks": ""
             }
            },
            "type": "scattermapbox"
           }
          ],
          "scatterpolar": [
           {
            "marker": {
             "colorbar": {
              "outlinewidth": 0,
              "ticks": ""
             }
            },
            "type": "scatterpolar"
           }
          ],
          "scatterpolargl": [
           {
            "marker": {
             "colorbar": {
              "outlinewidth": 0,
              "ticks": ""
             }
            },
            "type": "scatterpolargl"
           }
          ],
          "scatterternary": [
           {
            "marker": {
             "colorbar": {
              "outlinewidth": 0,
              "ticks": ""
             }
            },
            "type": "scatterternary"
           }
          ],
          "surface": [
           {
            "colorbar": {
             "outlinewidth": 0,
             "ticks": ""
            },
            "colorscale": [
             [
              0,
              "#0d0887"
             ],
             [
              0.1111111111111111,
              "#46039f"
             ],
             [
              0.2222222222222222,
              "#7201a8"
             ],
             [
              0.3333333333333333,
              "#9c179e"
             ],
             [
              0.4444444444444444,
              "#bd3786"
             ],
             [
              0.5555555555555556,
              "#d8576b"
             ],
             [
              0.6666666666666666,
              "#ed7953"
             ],
             [
              0.7777777777777778,
              "#fb9f3a"
             ],
             [
              0.8888888888888888,
              "#fdca26"
             ],
             [
              1,
              "#f0f921"
             ]
            ],
            "type": "surface"
           }
          ],
          "table": [
           {
            "cells": {
             "fill": {
              "color": "#506784"
             },
             "line": {
              "color": "rgb(17,17,17)"
             }
            },
            "header": {
             "fill": {
              "color": "#2a3f5f"
             },
             "line": {
              "color": "rgb(17,17,17)"
             }
            },
            "type": "table"
           }
          ]
         },
         "layout": {
          "annotationdefaults": {
           "arrowcolor": "#f2f5fa",
           "arrowhead": 0,
           "arrowwidth": 1
          },
          "autotypenumbers": "strict",
          "coloraxis": {
           "colorbar": {
            "outlinewidth": 0,
            "ticks": ""
           }
          },
          "colorscale": {
           "diverging": [
            [
             0,
             "#8e0152"
            ],
            [
             0.1,
             "#c51b7d"
            ],
            [
             0.2,
             "#de77ae"
            ],
            [
             0.3,
             "#f1b6da"
            ],
            [
             0.4,
             "#fde0ef"
            ],
            [
             0.5,
             "#f7f7f7"
            ],
            [
             0.6,
             "#e6f5d0"
            ],
            [
             0.7,
             "#b8e186"
            ],
            [
             0.8,
             "#7fbc41"
            ],
            [
             0.9,
             "#4d9221"
            ],
            [
             1,
             "#276419"
            ]
           ],
           "sequential": [
            [
             0,
             "#0d0887"
            ],
            [
             0.1111111111111111,
             "#46039f"
            ],
            [
             0.2222222222222222,
             "#7201a8"
            ],
            [
             0.3333333333333333,
             "#9c179e"
            ],
            [
             0.4444444444444444,
             "#bd3786"
            ],
            [
             0.5555555555555556,
             "#d8576b"
            ],
            [
             0.6666666666666666,
             "#ed7953"
            ],
            [
             0.7777777777777778,
             "#fb9f3a"
            ],
            [
             0.8888888888888888,
             "#fdca26"
            ],
            [
             1,
             "#f0f921"
            ]
           ],
           "sequentialminus": [
            [
             0,
             "#0d0887"
            ],
            [
             0.1111111111111111,
             "#46039f"
            ],
            [
             0.2222222222222222,
             "#7201a8"
            ],
            [
             0.3333333333333333,
             "#9c179e"
            ],
            [
             0.4444444444444444,
             "#bd3786"
            ],
            [
             0.5555555555555556,
             "#d8576b"
            ],
            [
             0.6666666666666666,
             "#ed7953"
            ],
            [
             0.7777777777777778,
             "#fb9f3a"
            ],
            [
             0.8888888888888888,
             "#fdca26"
            ],
            [
             1,
             "#f0f921"
            ]
           ]
          },
          "colorway": [
           "#636efa",
           "#EF553B",
           "#00cc96",
           "#ab63fa",
           "#FFA15A",
           "#19d3f3",
           "#FF6692",
           "#B6E880",
           "#FF97FF",
           "#FECB52"
          ],
          "font": {
           "color": "#f2f5fa"
          },
          "geo": {
           "bgcolor": "rgb(17,17,17)",
           "lakecolor": "rgb(17,17,17)",
           "landcolor": "rgb(17,17,17)",
           "showlakes": true,
           "showland": true,
           "subunitcolor": "#506784"
          },
          "hoverlabel": {
           "align": "left"
          },
          "hovermode": "closest",
          "mapbox": {
           "style": "dark"
          },
          "paper_bgcolor": "rgb(17,17,17)",
          "plot_bgcolor": "rgb(17,17,17)",
          "polar": {
           "angularaxis": {
            "gridcolor": "#506784",
            "linecolor": "#506784",
            "ticks": ""
           },
           "bgcolor": "rgb(17,17,17)",
           "radialaxis": {
            "gridcolor": "#506784",
            "linecolor": "#506784",
            "ticks": ""
           }
          },
          "scene": {
           "xaxis": {
            "backgroundcolor": "rgb(17,17,17)",
            "gridcolor": "#506784",
            "gridwidth": 2,
            "linecolor": "#506784",
            "showbackground": true,
            "ticks": "",
            "zerolinecolor": "#C8D4E3"
           },
           "yaxis": {
            "backgroundcolor": "rgb(17,17,17)",
            "gridcolor": "#506784",
            "gridwidth": 2,
            "linecolor": "#506784",
            "showbackground": true,
            "ticks": "",
            "zerolinecolor": "#C8D4E3"
           },
           "zaxis": {
            "backgroundcolor": "rgb(17,17,17)",
            "gridcolor": "#506784",
            "gridwidth": 2,
            "linecolor": "#506784",
            "showbackground": true,
            "ticks": "",
            "zerolinecolor": "#C8D4E3"
           }
          },
          "shapedefaults": {
           "line": {
            "color": "#f2f5fa"
           }
          },
          "sliderdefaults": {
           "bgcolor": "#C8D4E3",
           "bordercolor": "rgb(17,17,17)",
           "borderwidth": 1,
           "tickwidth": 0
          },
          "ternary": {
           "aaxis": {
            "gridcolor": "#506784",
            "linecolor": "#506784",
            "ticks": ""
           },
           "baxis": {
            "gridcolor": "#506784",
            "linecolor": "#506784",
            "ticks": ""
           },
           "bgcolor": "rgb(17,17,17)",
           "caxis": {
            "gridcolor": "#506784",
            "linecolor": "#506784",
            "ticks": ""
           }
          },
          "title": {
           "x": 0.05
          },
          "updatemenudefaults": {
           "bgcolor": "#506784",
           "borderwidth": 0
          },
          "xaxis": {
           "automargin": true,
           "gridcolor": "#283442",
           "linecolor": "#506784",
           "ticks": "",
           "title": {
            "standoff": 15
           },
           "zerolinecolor": "#283442",
           "zerolinewidth": 2
          },
          "yaxis": {
           "automargin": true,
           "gridcolor": "#283442",
           "linecolor": "#506784",
           "ticks": "",
           "title": {
            "standoff": 15
           },
           "zerolinecolor": "#283442",
           "zerolinewidth": 2
          }
         }
        },
        "title": {
         "text": "<b>SMA Crossover Strategy<b>"
        },
        "xaxis": {
         "title": {
          "text": "<b>Date<b>"
         }
        },
        "yaxis": {
         "title": {
          "text": "<b>Price<b>"
         },
         "type": "linear"
        }
       }
      }
     },
     "metadata": {},
     "output_type": "display_data"
    },
    {
     "data": {
      "application/vnd.plotly.v1+json": {
       "config": {
        "plotlyServerURL": "https://plot.ly"
       },
       "data": [
        {
         "hovertemplate": "%{x}<br>SMA_Crossover_8_20: %{y:.2%}<extra></extra>",
         "mode": "lines",
         "name": "SMA_Crossover_8_20",
         "type": "scatter",
         "x": [
          "2025-02-24T03:50:00",
          "2025-02-24T04:00:00",
          "2025-02-24T04:10:00",
          "2025-02-24T04:20:00",
          "2025-02-24T04:30:00",
          "2025-02-24T04:40:00",
          "2025-02-24T04:50:00",
          "2025-02-24T05:00:00",
          "2025-02-24T05:10:00",
          "2025-02-24T05:20:00",
          "2025-02-24T05:30:00",
          "2025-02-24T05:40:00",
          "2025-02-24T05:50:00",
          "2025-02-24T06:00:00",
          "2025-02-24T06:10:00",
          "2025-02-24T06:20:00",
          "2025-02-24T06:30:00",
          "2025-02-24T06:40:00",
          "2025-02-24T06:50:00",
          "2025-02-24T07:00:00",
          "2025-02-24T07:10:00",
          "2025-02-24T07:20:00",
          "2025-02-24T07:30:00",
          "2025-02-24T07:40:00",
          "2025-02-24T07:50:00",
          "2025-02-24T08:00:00",
          "2025-02-24T08:10:00",
          "2025-02-24T08:20:00",
          "2025-02-24T08:30:00",
          "2025-02-24T08:40:00",
          "2025-02-24T08:50:00",
          "2025-02-24T09:00:00",
          "2025-02-24T09:10:00",
          "2025-02-24T09:20:00",
          "2025-02-24T09:30:00",
          "2025-02-24T09:40:00",
          "2025-02-24T09:50:00",
          "2025-02-24T10:00:00",
          "2025-02-24T10:10:00",
          "2025-02-24T10:20:00",
          "2025-02-24T10:30:00",
          "2025-02-24T10:40:00",
          "2025-02-24T10:50:00",
          "2025-02-24T11:00:00",
          "2025-02-24T11:10:00",
          "2025-02-24T11:20:00",
          "2025-02-24T11:30:00",
          "2025-02-24T11:40:00",
          "2025-02-24T11:50:00",
          "2025-02-24T12:00:00",
          "2025-02-24T12:10:00",
          "2025-02-24T12:20:00",
          "2025-02-24T12:30:00",
          "2025-02-24T12:40:00",
          "2025-02-24T12:50:00",
          "2025-02-24T13:00:00",
          "2025-02-24T13:10:00",
          "2025-02-24T13:20:00",
          "2025-02-24T13:30:00",
          "2025-02-24T13:40:00",
          "2025-02-24T14:00:00",
          "2025-02-24T14:10:00",
          "2025-02-24T14:20:00",
          "2025-02-24T14:30:00",
          "2025-02-24T14:40:00",
          "2025-02-24T14:50:00",
          "2025-02-24T15:00:00",
          "2025-02-24T15:10:00",
          "2025-02-24T15:20:00",
          "2025-02-24T15:30:00",
          "2025-02-24T15:40:00",
          "2025-02-24T15:50:00",
          "2025-02-24T16:00:00",
          "2025-02-24T16:10:00",
          "2025-02-24T16:20:00",
          "2025-02-24T16:30:00",
          "2025-02-24T16:40:00",
          "2025-02-24T16:50:00",
          "2025-02-24T17:00:00",
          "2025-02-24T17:10:00",
          "2025-02-24T17:20:00",
          "2025-02-24T17:40:00",
          "2025-02-24T17:50:00",
          "2025-02-24T18:00:00",
          "2025-02-24T18:10:00",
          "2025-02-24T18:20:00",
          "2025-02-24T18:30:00",
          "2025-02-24T18:40:00",
          "2025-02-24T18:50:00",
          "2025-02-24T19:00:00",
          "2025-02-24T19:10:00",
          "2025-02-24T19:20:00",
          "2025-02-24T19:30:00",
          "2025-02-24T19:40:00",
          "2025-02-24T19:50:00",
          "2025-02-24T20:00:00",
          "2025-02-24T20:10:00",
          "2025-02-24T20:20:00",
          "2025-02-24T20:30:00",
          "2025-02-24T20:40:00",
          "2025-02-24T21:00:00",
          "2025-02-24T21:10:00",
          "2025-02-24T21:20:00",
          "2025-02-24T21:30:00",
          "2025-02-24T21:50:00",
          "2025-02-24T22:00:00",
          "2025-02-24T22:10:00",
          "2025-02-24T22:20:00",
          "2025-02-24T22:30:00",
          "2025-02-24T22:40:00",
          "2025-02-24T22:50:00",
          "2025-02-24T23:00:00",
          "2025-02-24T23:10:00",
          "2025-02-24T23:40:00",
          "2025-02-24T23:50:00",
          "2025-02-25T00:00:00",
          "2025-02-25T00:10:00",
          "2025-02-25T00:20:00",
          "2025-02-25T00:30:00",
          "2025-02-25T00:40:00",
          "2025-02-25T00:50:00",
          "2025-02-25T01:00:00",
          "2025-02-25T01:10:00",
          "2025-02-25T01:20:00",
          "2025-02-25T01:30:00",
          "2025-02-25T01:40:00",
          "2025-02-25T01:50:00",
          "2025-02-25T02:00:00",
          "2025-02-25T02:10:00",
          "2025-02-25T02:20:00",
          "2025-02-25T02:30:00",
          "2025-02-25T02:40:00",
          "2025-02-25T02:50:00",
          "2025-02-25T03:00:00",
          "2025-02-25T03:10:00",
          "2025-02-25T03:20:00",
          "2025-02-25T03:30:00",
          "2025-02-25T03:40:00",
          "2025-02-25T03:50:00",
          "2025-02-25T04:00:00",
          "2025-02-25T04:10:00",
          "2025-02-25T04:20:00",
          "2025-02-25T04:30:00",
          "2025-02-25T04:40:00",
          "2025-02-25T04:50:00",
          "2025-02-25T05:00:00",
          "2025-02-25T05:10:00",
          "2025-02-25T05:20:00",
          "2025-02-25T05:30:00",
          "2025-02-25T05:40:00",
          "2025-02-25T05:50:00",
          "2025-02-25T06:00:00",
          "2025-02-25T06:10:00",
          "2025-02-25T06:20:00",
          "2025-02-25T06:30:00",
          "2025-02-25T06:40:00",
          "2025-02-25T06:50:00",
          "2025-02-25T07:00:00",
          "2025-02-25T07:10:00",
          "2025-02-25T07:20:00",
          "2025-02-25T07:30:00",
          "2025-02-25T07:40:00",
          "2025-02-25T07:50:00",
          "2025-02-25T08:00:00",
          "2025-02-25T08:10:00",
          "2025-02-25T08:20:00",
          "2025-02-25T08:30:00",
          "2025-02-25T08:40:00",
          "2025-02-25T08:50:00",
          "2025-02-25T09:00:00",
          "2025-02-25T09:10:00",
          "2025-02-25T09:20:00",
          "2025-02-25T09:30:00",
          "2025-02-25T09:40:00",
          "2025-02-25T09:50:00",
          "2025-02-25T10:00:00",
          "2025-02-25T10:10:00",
          "2025-02-25T10:20:00",
          "2025-02-25T10:30:00",
          "2025-02-25T10:40:00",
          "2025-02-25T10:50:00",
          "2025-02-25T11:00:00",
          "2025-02-25T11:10:00",
          "2025-02-25T11:20:00",
          "2025-02-25T11:30:00",
          "2025-02-25T11:40:00",
          "2025-02-25T11:50:00",
          "2025-02-25T12:00:00",
          "2025-02-25T12:10:00",
          "2025-02-25T12:20:00",
          "2025-02-25T12:30:00",
          "2025-02-25T12:40:00",
          "2025-02-25T12:50:00",
          "2025-02-25T13:00:00",
          "2025-02-25T13:10:00",
          "2025-02-25T13:20:00",
          "2025-02-25T13:30:00",
          "2025-02-25T13:40:00",
          "2025-02-25T13:50:00",
          "2025-02-25T14:00:00",
          "2025-02-25T14:10:00",
          "2025-02-25T14:20:00",
          "2025-02-25T14:30:00",
          "2025-02-25T14:40:00",
          "2025-02-25T14:50:00",
          "2025-02-25T15:00:00",
          "2025-02-25T15:10:00",
          "2025-02-25T15:20:00",
          "2025-02-25T15:30:00",
          "2025-02-25T15:40:00",
          "2025-02-25T15:50:00",
          "2025-02-25T16:00:00",
          "2025-02-25T16:10:00",
          "2025-02-25T16:20:00",
          "2025-02-25T16:30:00",
          "2025-02-25T16:40:00",
          "2025-02-25T16:50:00",
          "2025-02-25T17:00:00",
          "2025-02-25T17:10:00",
          "2025-02-25T17:30:00",
          "2025-02-25T17:40:00",
          "2025-02-25T17:50:00",
          "2025-02-25T18:00:00",
          "2025-02-25T18:10:00",
          "2025-02-25T18:20:00",
          "2025-02-25T18:30:00",
          "2025-02-25T18:40:00",
          "2025-02-25T18:50:00",
          "2025-02-25T19:00:00",
          "2025-02-25T19:10:00",
          "2025-02-25T19:20:00",
          "2025-02-25T19:30:00",
          "2025-02-25T19:50:00",
          "2025-02-25T20:00:00",
          "2025-02-25T20:20:00",
          "2025-02-25T20:30:00",
          "2025-02-25T20:40:00",
          "2025-02-25T20:50:00",
          "2025-02-25T21:00:00",
          "2025-02-25T21:10:00",
          "2025-02-25T21:20:00",
          "2025-02-25T21:30:00",
          "2025-02-25T21:40:00",
          "2025-02-25T21:50:00",
          "2025-02-25T22:10:00",
          "2025-02-25T22:20:00",
          "2025-02-25T22:30:00",
          "2025-02-25T22:40:00",
          "2025-02-25T22:50:00",
          "2025-02-25T23:00:00",
          "2025-02-25T23:10:00",
          "2025-02-25T23:20:00",
          "2025-02-25T23:30:00",
          "2025-02-25T23:40:00",
          "2025-02-25T23:50:00"
         ],
         "y": {
          "bdata": "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",
          "dtype": "f8"
         }
        },
        {
         "hovertemplate": "%{x}<br>Benchmark: %{y:.2%}<extra></extra>",
         "line": {
          "color": "#F2A900",
          "dash": "dash"
         },
         "mode": "lines",
         "name": "Benchmark (Buy & Hold)",
         "type": "scatter",
         "x": [
          "2025-02-24T03:50:00",
          "2025-02-24T04:00:00",
          "2025-02-24T04:10:00",
          "2025-02-24T04:20:00",
          "2025-02-24T04:30:00",
          "2025-02-24T04:40:00",
          "2025-02-24T04:50:00",
          "2025-02-24T05:00:00",
          "2025-02-24T05:10:00",
          "2025-02-24T05:20:00",
          "2025-02-24T05:30:00",
          "2025-02-24T05:40:00",
          "2025-02-24T05:50:00",
          "2025-02-24T06:00:00",
          "2025-02-24T06:10:00",
          "2025-02-24T06:20:00",
          "2025-02-24T06:30:00",
          "2025-02-24T06:40:00",
          "2025-02-24T06:50:00",
          "2025-02-24T07:00:00",
          "2025-02-24T07:10:00",
          "2025-02-24T07:20:00",
          "2025-02-24T07:30:00",
          "2025-02-24T07:40:00",
          "2025-02-24T07:50:00",
          "2025-02-24T08:00:00",
          "2025-02-24T08:10:00",
          "2025-02-24T08:20:00",
          "2025-02-24T08:30:00",
          "2025-02-24T08:40:00",
          "2025-02-24T08:50:00",
          "2025-02-24T09:00:00",
          "2025-02-24T09:10:00",
          "2025-02-24T09:20:00",
          "2025-02-24T09:30:00",
          "2025-02-24T09:40:00",
          "2025-02-24T09:50:00",
          "2025-02-24T10:00:00",
          "2025-02-24T10:10:00",
          "2025-02-24T10:20:00",
          "2025-02-24T10:30:00",
          "2025-02-24T10:40:00",
          "2025-02-24T10:50:00",
          "2025-02-24T11:00:00",
          "2025-02-24T11:10:00",
          "2025-02-24T11:20:00",
          "2025-02-24T11:30:00",
          "2025-02-24T11:40:00",
          "2025-02-24T11:50:00",
          "2025-02-24T12:00:00",
          "2025-02-24T12:10:00",
          "2025-02-24T12:20:00",
          "2025-02-24T12:30:00",
          "2025-02-24T12:40:00",
          "2025-02-24T12:50:00",
          "2025-02-24T13:00:00",
          "2025-02-24T13:10:00",
          "2025-02-24T13:20:00",
          "2025-02-24T13:30:00",
          "2025-02-24T13:40:00",
          "2025-02-24T14:00:00",
          "2025-02-24T14:10:00",
          "2025-02-24T14:20:00",
          "2025-02-24T14:30:00",
          "2025-02-24T14:40:00",
          "2025-02-24T14:50:00",
          "2025-02-24T15:00:00",
          "2025-02-24T15:10:00",
          "2025-02-24T15:20:00",
          "2025-02-24T15:30:00",
          "2025-02-24T15:40:00",
          "2025-02-24T15:50:00",
          "2025-02-24T16:00:00",
          "2025-02-24T16:10:00",
          "2025-02-24T16:20:00",
          "2025-02-24T16:30:00",
          "2025-02-24T16:40:00",
          "2025-02-24T16:50:00",
          "2025-02-24T17:00:00",
          "2025-02-24T17:10:00",
          "2025-02-24T17:20:00",
          "2025-02-24T17:40:00",
          "2025-02-24T17:50:00",
          "2025-02-24T18:00:00",
          "2025-02-24T18:10:00",
          "2025-02-24T18:20:00",
          "2025-02-24T18:30:00",
          "2025-02-24T18:40:00",
          "2025-02-24T18:50:00",
          "2025-02-24T19:00:00",
          "2025-02-24T19:10:00",
          "2025-02-24T19:20:00",
          "2025-02-24T19:30:00",
          "2025-02-24T19:40:00",
          "2025-02-24T19:50:00",
          "2025-02-24T20:00:00",
          "2025-02-24T20:10:00",
          "2025-02-24T20:20:00",
          "2025-02-24T20:30:00",
          "2025-02-24T20:40:00",
          "2025-02-24T21:00:00",
          "2025-02-24T21:10:00",
          "2025-02-24T21:20:00",
          "2025-02-24T21:30:00",
          "2025-02-24T21:50:00",
          "2025-02-24T22:00:00",
          "2025-02-24T22:10:00",
          "2025-02-24T22:20:00",
          "2025-02-24T22:30:00",
          "2025-02-24T22:40:00",
          "2025-02-24T22:50:00",
          "2025-02-24T23:00:00",
          "2025-02-24T23:10:00",
          "2025-02-24T23:40:00",
          "2025-02-24T23:50:00",
          "2025-02-25T00:00:00",
          "2025-02-25T00:10:00",
          "2025-02-25T00:20:00",
          "2025-02-25T00:30:00",
          "2025-02-25T00:40:00",
          "2025-02-25T00:50:00",
          "2025-02-25T01:00:00",
          "2025-02-25T01:10:00",
          "2025-02-25T01:20:00",
          "2025-02-25T01:30:00",
          "2025-02-25T01:40:00",
          "2025-02-25T01:50:00",
          "2025-02-25T02:00:00",
          "2025-02-25T02:10:00",
          "2025-02-25T02:20:00",
          "2025-02-25T02:30:00",
          "2025-02-25T02:40:00",
          "2025-02-25T02:50:00",
          "2025-02-25T03:00:00",
          "2025-02-25T03:10:00",
          "2025-02-25T03:20:00",
          "2025-02-25T03:30:00",
          "2025-02-25T03:40:00",
          "2025-02-25T03:50:00",
          "2025-02-25T04:00:00",
          "2025-02-25T04:10:00",
          "2025-02-25T04:20:00",
          "2025-02-25T04:30:00",
          "2025-02-25T04:40:00",
          "2025-02-25T04:50:00",
          "2025-02-25T05:00:00",
          "2025-02-25T05:10:00",
          "2025-02-25T05:20:00",
          "2025-02-25T05:30:00",
          "2025-02-25T05:40:00",
          "2025-02-25T05:50:00",
          "2025-02-25T06:00:00",
          "2025-02-25T06:10:00",
          "2025-02-25T06:20:00",
          "2025-02-25T06:30:00",
          "2025-02-25T06:40:00",
          "2025-02-25T06:50:00",
          "2025-02-25T07:00:00",
          "2025-02-25T07:10:00",
          "2025-02-25T07:20:00",
          "2025-02-25T07:30:00",
          "2025-02-25T07:40:00",
          "2025-02-25T07:50:00",
          "2025-02-25T08:00:00",
          "2025-02-25T08:10:00",
          "2025-02-25T08:20:00",
          "2025-02-25T08:30:00",
          "2025-02-25T08:40:00",
          "2025-02-25T08:50:00",
          "2025-02-25T09:00:00",
          "2025-02-25T09:10:00",
          "2025-02-25T09:20:00",
          "2025-02-25T09:30:00",
          "2025-02-25T09:40:00",
          "2025-02-25T09:50:00",
          "2025-02-25T10:00:00",
          "2025-02-25T10:10:00",
          "2025-02-25T10:20:00",
          "2025-02-25T10:30:00",
          "2025-02-25T10:40:00",
          "2025-02-25T10:50:00",
          "2025-02-25T11:00:00",
          "2025-02-25T11:10:00",
          "2025-02-25T11:20:00",
          "2025-02-25T11:30:00",
          "2025-02-25T11:40:00",
          "2025-02-25T11:50:00",
          "2025-02-25T12:00:00",
          "2025-02-25T12:10:00",
          "2025-02-25T12:20:00",
          "2025-02-25T12:30:00",
          "2025-02-25T12:40:00",
          "2025-02-25T12:50:00",
          "2025-02-25T13:00:00",
          "2025-02-25T13:10:00",
          "2025-02-25T13:20:00",
          "2025-02-25T13:30:00",
          "2025-02-25T13:40:00",
          "2025-02-25T13:50:00",
          "2025-02-25T14:00:00",
          "2025-02-25T14:10:00",
          "2025-02-25T14:20:00",
          "2025-02-25T14:30:00",
          "2025-02-25T14:40:00",
          "2025-02-25T14:50:00",
          "2025-02-25T15:00:00",
          "2025-02-25T15:10:00",
          "2025-02-25T15:20:00",
          "2025-02-25T15:30:00",
          "2025-02-25T15:40:00",
          "2025-02-25T15:50:00",
          "2025-02-25T16:00:00",
          "2025-02-25T16:10:00",
          "2025-02-25T16:20:00",
          "2025-02-25T16:30:00",
          "2025-02-25T16:40:00",
          "2025-02-25T16:50:00",
          "2025-02-25T17:00:00",
          "2025-02-25T17:10:00",
          "2025-02-25T17:30:00",
          "2025-02-25T17:40:00",
          "2025-02-25T17:50:00",
          "2025-02-25T18:00:00",
          "2025-02-25T18:10:00",
          "2025-02-25T18:20:00",
          "2025-02-25T18:30:00",
          "2025-02-25T18:40:00",
          "2025-02-25T18:50:00",
          "2025-02-25T19:00:00",
          "2025-02-25T19:10:00",
          "2025-02-25T19:20:00",
          "2025-02-25T19:30:00",
          "2025-02-25T19:50:00",
          "2025-02-25T20:00:00",
          "2025-02-25T20:20:00",
          "2025-02-25T20:30:00",
          "2025-02-25T20:40:00",
          "2025-02-25T20:50:00",
          "2025-02-25T21:00:00",
          "2025-02-25T21:10:00",
          "2025-02-25T21:20:00",
          "2025-02-25T21:30:00",
          "2025-02-25T21:40:00",
          "2025-02-25T21:50:00",
          "2025-02-25T22:10:00",
          "2025-02-25T22:20:00",
          "2025-02-25T22:30:00",
          "2025-02-25T22:40:00",
          "2025-02-25T22:50:00",
          "2025-02-25T23:00:00",
          "2025-02-25T23:10:00",
          "2025-02-25T23:20:00",
          "2025-02-25T23:30:00",
          "2025-02-25T23:40:00",
          "2025-02-25T23:50:00"
         ],
         "y": {
          "bdata": "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",
          "dtype": "f8"
         }
        }
       ],
       "layout": {
        "height": 600,
        "hovermode": "x unified",
        "legend": {
         "orientation": "h",
         "x": 1,
         "xanchor": "right",
         "y": 1.02,
         "yanchor": "bottom"
        },
        "template": {
         "data": {
          "bar": [
           {
            "error_x": {
             "color": "#f2f5fa"
            },
            "error_y": {
             "color": "#f2f5fa"
            },
            "marker": {
             "line": {
              "color": "rgb(17,17,17)",
              "width": 0.5
             },
             "pattern": {
              "fillmode": "overlay",
              "size": 10,
              "solidity": 0.2
             }
            },
            "type": "bar"
           }
          ],
          "barpolar": [
           {
            "marker": {
             "line": {
              "color": "rgb(17,17,17)",
              "width": 0.5
             },
             "pattern": {
              "fillmode": "overlay",
              "size": 10,
              "solidity": 0.2
             }
            },
            "type": "barpolar"
           }
          ],
          "carpet": [
           {
            "aaxis": {
             "endlinecolor": "#A2B1C6",
             "gridcolor": "#506784",
             "linecolor": "#506784",
             "minorgridcolor": "#506784",
             "startlinecolor": "#A2B1C6"
            },
            "baxis": {
             "endlinecolor": "#A2B1C6",
             "gridcolor": "#506784",
             "linecolor": "#506784",
             "minorgridcolor": "#506784",
             "startlinecolor": "#A2B1C6"
            },
            "type": "carpet"
           }
          ],
          "choropleth": [
           {
            "colorbar": {
             "outlinewidth": 0,
             "ticks": ""
            },
            "type": "choropleth"
           }
          ],
          "contour": [
           {
            "colorbar": {
             "outlinewidth": 0,
             "ticks": ""
            },
            "colorscale": [
             [
              0,
              "#0d0887"
             ],
             [
              0.1111111111111111,
              "#46039f"
             ],
             [
              0.2222222222222222,
              "#7201a8"
             ],
             [
              0.3333333333333333,
              "#9c179e"
             ],
             [
              0.4444444444444444,
              "#bd3786"
             ],
             [
              0.5555555555555556,
              "#d8576b"
             ],
             [
              0.6666666666666666,
              "#ed7953"
             ],
             [
              0.7777777777777778,
              "#fb9f3a"
             ],
             [
              0.8888888888888888,
              "#fdca26"
             ],
             [
              1,
              "#f0f921"
             ]
            ],
            "type": "contour"
           }
          ],
          "contourcarpet": [
           {
            "colorbar": {
             "outlinewidth": 0,
             "ticks": ""
            },
            "type": "contourcarpet"
           }
          ],
          "heatmap": [
           {
            "colorbar": {
             "outlinewidth": 0,
             "ticks": ""
            },
            "colorscale": [
             [
              0,
              "#0d0887"
             ],
             [
              0.1111111111111111,
              "#46039f"
             ],
             [
              0.2222222222222222,
              "#7201a8"
             ],
             [
              0.3333333333333333,
              "#9c179e"
             ],
             [
              0.4444444444444444,
              "#bd3786"
             ],
             [
              0.5555555555555556,
              "#d8576b"
             ],
             [
              0.6666666666666666,
              "#ed7953"
             ],
             [
              0.7777777777777778,
              "#fb9f3a"
             ],
             [
              0.8888888888888888,
              "#fdca26"
             ],
             [
              1,
              "#f0f921"
             ]
            ],
            "type": "heatmap"
           }
          ],
          "histogram": [
           {
            "marker": {
             "pattern": {
              "fillmode": "overlay",
              "size": 10,
              "solidity": 0.2
             }
            },
            "type": "histogram"
           }
          ],
          "histogram2d": [
           {
            "colorbar": {
             "outlinewidth": 0,
             "ticks": ""
            },
            "colorscale": [
             [
              0,
              "#0d0887"
             ],
             [
              0.1111111111111111,
              "#46039f"
             ],
             [
              0.2222222222222222,
              "#7201a8"
             ],
             [
              0.3333333333333333,
              "#9c179e"
             ],
             [
              0.4444444444444444,
              "#bd3786"
             ],
             [
              0.5555555555555556,
              "#d8576b"
             ],
             [
              0.6666666666666666,
              "#ed7953"
             ],
             [
              0.7777777777777778,
              "#fb9f3a"
             ],
             [
              0.8888888888888888,
              "#fdca26"
             ],
             [
              1,
              "#f0f921"
             ]
            ],
            "type": "histogram2d"
           }
          ],
          "histogram2dcontour": [
           {
            "colorbar": {
             "outlinewidth": 0,
             "ticks": ""
            },
            "colorscale": [
             [
              0,
              "#0d0887"
             ],
             [
              0.1111111111111111,
              "#46039f"
             ],
             [
              0.2222222222222222,
              "#7201a8"
             ],
             [
              0.3333333333333333,
              "#9c179e"
             ],
             [
              0.4444444444444444,
              "#bd3786"
             ],
             [
              0.5555555555555556,
              "#d8576b"
             ],
             [
              0.6666666666666666,
              "#ed7953"
             ],
             [
              0.7777777777777778,
              "#fb9f3a"
             ],
             [
              0.8888888888888888,
              "#fdca26"
             ],
             [
              1,
              "#f0f921"
             ]
            ],
            "type": "histogram2dcontour"
           }
          ],
          "mesh3d": [
           {
            "colorbar": {
             "outlinewidth": 0,
             "ticks": ""
            },
            "type": "mesh3d"
           }
          ],
          "parcoords": [
           {
            "line": {
             "colorbar": {
              "outlinewidth": 0,
              "ticks": ""
             }
            },
            "type": "parcoords"
           }
          ],
          "pie": [
           {
            "automargin": true,
            "type": "pie"
           }
          ],
          "scatter": [
           {
            "marker": {
             "line": {
              "color": "#283442"
             }
            },
            "type": "scatter"
           }
          ],
          "scatter3d": [
           {
            "line": {
             "colorbar": {
              "outlinewidth": 0,
              "ticks": ""
             }
            },
            "marker": {
             "colorbar": {
              "outlinewidth": 0,
              "ticks": ""
             }
            },
            "type": "scatter3d"
           }
          ],
          "scattercarpet": [
           {
            "marker": {
             "colorbar": {
              "outlinewidth": 0,
              "ticks": ""
             }
            },
            "type": "scattercarpet"
           }
          ],
          "scattergeo": [
           {
            "marker": {
             "colorbar": {
              "outlinewidth": 0,
              "ticks": ""
             }
            },
            "type": "scattergeo"
           }
          ],
          "scattergl": [
           {
            "marker": {
             "line": {
              "color": "#283442"
             }
            },
            "type": "scattergl"
           }
          ],
          "scattermap": [
           {
            "marker": {
             "colorbar": {
              "outlinewidth": 0,
              "ticks": ""
             }
            },
            "type": "scattermap"
           }
          ],
          "scattermapbox": [
           {
            "marker": {
             "colorbar": {
              "outlinewidth": 0,
              "ticks": ""
             }
            },
            "type": "scattermapbox"
           }
          ],
          "scatterpolar": [
           {
            "marker": {
             "colorbar": {
              "outlinewidth": 0,
              "ticks": ""
             }
            },
            "type": "scatterpolar"
           }
          ],
          "scatterpolargl": [
           {
            "marker": {
             "colorbar": {
              "outlinewidth": 0,
              "ticks": ""
             }
            },
            "type": "scatterpolargl"
           }
          ],
          "scatterternary": [
           {
            "marker": {
             "colorbar": {
              "outlinewidth": 0,
              "ticks": ""
             }
            },
            "type": "scatterternary"
           }
          ],
          "surface": [
           {
            "colorbar": {
             "outlinewidth": 0,
             "ticks": ""
            },
            "colorscale": [
             [
              0,
              "#0d0887"
             ],
             [
              0.1111111111111111,
              "#46039f"
             ],
             [
              0.2222222222222222,
              "#7201a8"
             ],
             [
              0.3333333333333333,
              "#9c179e"
             ],
             [
              0.4444444444444444,
              "#bd3786"
             ],
             [
              0.5555555555555556,
              "#d8576b"
             ],
             [
              0.6666666666666666,
              "#ed7953"
             ],
             [
              0.7777777777777778,
              "#fb9f3a"
             ],
             [
              0.8888888888888888,
              "#fdca26"
             ],
             [
              1,
              "#f0f921"
             ]
            ],
            "type": "surface"
           }
          ],
          "table": [
           {
            "cells": {
             "fill": {
              "color": "#506784"
             },
             "line": {
              "color": "rgb(17,17,17)"
             }
            },
            "header": {
             "fill": {
              "color": "#2a3f5f"
             },
             "line": {
              "color": "rgb(17,17,17)"
             }
            },
            "type": "table"
           }
          ]
         },
         "layout": {
          "annotationdefaults": {
           "arrowcolor": "#f2f5fa",
           "arrowhead": 0,
           "arrowwidth": 1
          },
          "autotypenumbers": "strict",
          "coloraxis": {
           "colorbar": {
            "outlinewidth": 0,
            "ticks": ""
           }
          },
          "colorscale": {
           "diverging": [
            [
             0,
             "#8e0152"
            ],
            [
             0.1,
             "#c51b7d"
            ],
            [
             0.2,
             "#de77ae"
            ],
            [
             0.3,
             "#f1b6da"
            ],
            [
             0.4,
             "#fde0ef"
            ],
            [
             0.5,
             "#f7f7f7"
            ],
            [
             0.6,
             "#e6f5d0"
            ],
            [
             0.7,
             "#b8e186"
            ],
            [
             0.8,
             "#7fbc41"
            ],
            [
             0.9,
             "#4d9221"
            ],
            [
             1,
             "#276419"
            ]
           ],
           "sequential": [
            [
             0,
             "#0d0887"
            ],
            [
             0.1111111111111111,
             "#46039f"
            ],
            [
             0.2222222222222222,
             "#7201a8"
            ],
            [
             0.3333333333333333,
             "#9c179e"
            ],
            [
             0.4444444444444444,
             "#bd3786"
            ],
            [
             0.5555555555555556,
             "#d8576b"
            ],
            [
             0.6666666666666666,
             "#ed7953"
            ],
            [
             0.7777777777777778,
             "#fb9f3a"
            ],
            [
             0.8888888888888888,
             "#fdca26"
            ],
            [
             1,
             "#f0f921"
            ]
           ],
           "sequentialminus": [
            [
             0,
             "#0d0887"
            ],
            [
             0.1111111111111111,
             "#46039f"
            ],
            [
             0.2222222222222222,
             "#7201a8"
            ],
            [
             0.3333333333333333,
             "#9c179e"
            ],
            [
             0.4444444444444444,
             "#bd3786"
            ],
            [
             0.5555555555555556,
             "#d8576b"
            ],
            [
             0.6666666666666666,
             "#ed7953"
            ],
            [
             0.7777777777777778,
             "#fb9f3a"
            ],
            [
             0.8888888888888888,
             "#fdca26"
            ],
            [
             1,
             "#f0f921"
            ]
           ]
          },
          "colorway": [
           "#636efa",
           "#EF553B",
           "#00cc96",
           "#ab63fa",
           "#FFA15A",
           "#19d3f3",
           "#FF6692",
           "#B6E880",
           "#FF97FF",
           "#FECB52"
          ],
          "font": {
           "color": "#f2f5fa"
          },
          "geo": {
           "bgcolor": "rgb(17,17,17)",
           "lakecolor": "rgb(17,17,17)",
           "landcolor": "rgb(17,17,17)",
           "showlakes": true,
           "showland": true,
           "subunitcolor": "#506784"
          },
          "hoverlabel": {
           "align": "left"
          },
          "hovermode": "closest",
          "mapbox": {
           "style": "dark"
          },
          "paper_bgcolor": "rgb(17,17,17)",
          "plot_bgcolor": "rgb(17,17,17)",
          "polar": {
           "angularaxis": {
            "gridcolor": "#506784",
            "linecolor": "#506784",
            "ticks": ""
           },
           "bgcolor": "rgb(17,17,17)",
           "radialaxis": {
            "gridcolor": "#506784",
            "linecolor": "#506784",
            "ticks": ""
           }
          },
          "scene": {
           "xaxis": {
            "backgroundcolor": "rgb(17,17,17)",
            "gridcolor": "#506784",
            "gridwidth": 2,
            "linecolor": "#506784",
            "showbackground": true,
            "ticks": "",
            "zerolinecolor": "#C8D4E3"
           },
           "yaxis": {
            "backgroundcolor": "rgb(17,17,17)",
            "gridcolor": "#506784",
            "gridwidth": 2,
            "linecolor": "#506784",
            "showbackground": true,
            "ticks": "",
            "zerolinecolor": "#C8D4E3"
           },
           "zaxis": {
            "backgroundcolor": "rgb(17,17,17)",
            "gridcolor": "#506784",
            "gridwidth": 2,
            "linecolor": "#506784",
            "showbackground": true,
            "ticks": "",
            "zerolinecolor": "#C8D4E3"
           }
          },
          "shapedefaults": {
           "line": {
            "color": "#f2f5fa"
           }
          },
          "sliderdefaults": {
           "bgcolor": "#C8D4E3",
           "bordercolor": "rgb(17,17,17)",
           "borderwidth": 1,
           "tickwidth": 0
          },
          "ternary": {
           "aaxis": {
            "gridcolor": "#506784",
            "linecolor": "#506784",
            "ticks": ""
           },
           "baxis": {
            "gridcolor": "#506784",
            "linecolor": "#506784",
            "ticks": ""
           },
           "bgcolor": "rgb(17,17,17)",
           "caxis": {
            "gridcolor": "#506784",
            "linecolor": "#506784",
            "ticks": ""
           }
          },
          "title": {
           "x": 0.05
          },
          "updatemenudefaults": {
           "bgcolor": "#506784",
           "borderwidth": 0
          },
          "xaxis": {
           "automargin": true,
           "gridcolor": "#283442",
           "linecolor": "#506784",
           "ticks": "",
           "title": {
            "standoff": 15
           },
           "zerolinecolor": "#283442",
           "zerolinewidth": 2
          },
          "yaxis": {
           "automargin": true,
           "gridcolor": "#283442",
           "linecolor": "#506784",
           "ticks": "",
           "title": {
            "standoff": 15
           },
           "zerolinecolor": "#283442",
           "zerolinewidth": 2
          }
         }
        },
        "title": {
         "text": "<b>Equity Curve<b>"
        },
        "width": 1000,
        "xaxis": {
         "title": {
          "text": "<b>Date<b>"
         }
        },
        "yaxis": {
         "title": {
          "text": "<b>Normalized Performance</b>"
         }
        }
       }
      }
     },
     "metadata": {},
     "output_type": "display_data"
    }
   ],
   "source": [
    "# Load market data\n",
    "df = backtest_data\n",
    "market_data = MarketData(df=df)\n",
    "\n",
    "# Create a strategy\n",
    "sma_strategy = CrossoverStrategies.sma_crossover(\n",
    "    market_data=market_data,\n",
    "    position_size=1,\n",
    "    short_window=8,\n",
    "    long_window=20,\n",
    "    strategy_name=\"SMA_Crossover\"\n",
    ")\n",
    "\n",
    "# Generate trades\n",
    "sma_trades = TradeGenerator.generate_trade_dataframe(\n",
    "    strategy_signals=sma_strategy\n",
    ")\n",
    "\n",
    "# Calculate performance metrics\n",
    "sma_metrics = PerformanceCalculator.calculate_performance_metrics(\n",
    "    trades_data=sma_trades,\n",
    "    market_data = sma_strategy\n",
    ")\n",
    "\n",
    "# Display key metrics\n",
    "print(\"\\nKey metrics for SMA strategy:\")\n",
    "sma_key_metrics = PerformanceCalculator.get_key_metrics(sma_metrics, metrics_list=['Return [%]', 'Sortino Ratio', 'Max. Drawdown [%]'])\n",
    "for key, value in sma_key_metrics.items():\n",
    "    print(f\"  {key}: {value}\")\n",
    "\n",
    "# Visualize SMA trades\n",
    "sma_fig = TradingVisualizer.plot_trading_signals(\n",
    "    strategy_signals=sma_strategy,\n",
    "    title=f\"SMA Crossover Strategy\",\n",
    ")\n",
    "sma_fig.show()\n",
    "\n",
    "# Plot equity curve\n",
    "sma_equity_curve = PerformanceCalculator.get_equity_curves(sma_strategy, sma_trades)\n",
    "equity_fig = TradingVisualizer.plot_equity_curves(\n",
    "    equity_curves=[\n",
    "        sma_equity_curve,\n",
    "    ],\n",
    "    title=\"Equity Curve\",\n",
    "    dark_mode=True,\n",
    "    width=1000,\n",
    "    height=600,\n",
    ")\n",
    "equity_fig.show()\n"
   ]
  },
  {
   "cell_type": "markdown",
   "metadata": {},
   "source": [
    "## Checking Full Metrics"
   ]
  },
  {
   "cell_type": "code",
   "execution_count": 12,
   "metadata": {},
   "outputs": [
    {
     "data": {
      "text/html": [
       "<div>\n",
       "<style scoped>\n",
       "    .dataframe tbody tr th:only-of-type {\n",
       "        vertical-align: middle;\n",
       "    }\n",
       "\n",
       "    .dataframe tbody tr th {\n",
       "        vertical-align: top;\n",
       "    }\n",
       "\n",
       "    .dataframe thead th {\n",
       "        text-align: right;\n",
       "    }\n",
       "</style>\n",
       "<table border=\"1\" class=\"dataframe\">\n",
       "  <thead>\n",
       "    <tr style=\"text-align: right;\">\n",
       "      <th></th>\n",
       "      <th>0</th>\n",
       "    </tr>\n",
       "  </thead>\n",
       "  <tbody>\n",
       "    <tr>\n",
       "      <th>Start</th>\n",
       "      <td>2025-02-24 03:40:00</td>\n",
       "    </tr>\n",
       "    <tr>\n",
       "      <th>End</th>\n",
       "      <td>2025-02-25 23:50:00</td>\n",
       "    </tr>\n",
       "    <tr>\n",
       "      <th>Duration</th>\n",
       "      <td>1 days 20:10:00</td>\n",
       "    </tr>\n",
       "    <tr>\n",
       "      <th>Exposure Time [%]</th>\n",
       "      <td>92.753623</td>\n",
       "    </tr>\n",
       "    <tr>\n",
       "      <th>Equity Final [$]</th>\n",
       "      <td>10336.000642</td>\n",
       "    </tr>\n",
       "    <tr>\n",
       "      <th>Equity Peak [$]</th>\n",
       "      <td>10607.507855</td>\n",
       "    </tr>\n",
       "    <tr>\n",
       "      <th>Return [%]</th>\n",
       "      <td>3.300288</td>\n",
       "    </tr>\n",
       "    <tr>\n",
       "      <th>Buy &amp; Hold Return [%]</th>\n",
       "      <td>-7.195256</td>\n",
       "    </tr>\n",
       "    <tr>\n",
       "      <th>Return (Ann.) [%]</th>\n",
       "      <td>234.935838</td>\n",
       "    </tr>\n",
       "    <tr>\n",
       "      <th>Volatility (Ann.) [%]</th>\n",
       "      <td>94.263337</td>\n",
       "    </tr>\n",
       "    <tr>\n",
       "      <th>CAGR [%]</th>\n",
       "      <td>634.82965</td>\n",
       "    </tr>\n",
       "    <tr>\n",
       "      <th>Sharpe Ratio</th>\n",
       "      <td>2.492335</td>\n",
       "    </tr>\n",
       "    <tr>\n",
       "      <th>Sortino Ratio</th>\n",
       "      <td>15.10831</td>\n",
       "    </tr>\n",
       "    <tr>\n",
       "      <th>Calmar Ratio</th>\n",
       "      <td>90.440487</td>\n",
       "    </tr>\n",
       "    <tr>\n",
       "      <th>Alpha [%]</th>\n",
       "      <td>32.941771</td>\n",
       "    </tr>\n",
       "    <tr>\n",
       "      <th>Beta</th>\n",
       "      <td>-0.457033</td>\n",
       "    </tr>\n",
       "    <tr>\n",
       "      <th>Max. Drawdown [%]</th>\n",
       "      <td>-2.597684</td>\n",
       "    </tr>\n",
       "    <tr>\n",
       "      <th>Avg. Drawdown [%]</th>\n",
       "      <td>-1.138625</td>\n",
       "    </tr>\n",
       "    <tr>\n",
       "      <th>Max. Drawdown Duration</th>\n",
       "      <td>1 days 18:40:00</td>\n",
       "    </tr>\n",
       "    <tr>\n",
       "      <th>Avg. Drawdown Duration</th>\n",
       "      <td>0 days 22:43:45</td>\n",
       "    </tr>\n",
       "    <tr>\n",
       "      <th># Trades</th>\n",
       "      <td>16</td>\n",
       "    </tr>\n",
       "    <tr>\n",
       "      <th>Win Rate [%]</th>\n",
       "      <td>31.25</td>\n",
       "    </tr>\n",
       "    <tr>\n",
       "      <th>Best Trade [%]</th>\n",
       "      <td>3.081816</td>\n",
       "    </tr>\n",
       "    <tr>\n",
       "      <th>Worst Trade [%]</th>\n",
       "      <td>-1.193439</td>\n",
       "    </tr>\n",
       "    <tr>\n",
       "      <th>Avg. Trade [%]</th>\n",
       "      <td>0.194686</td>\n",
       "    </tr>\n",
       "    <tr>\n",
       "      <th>Max. Trade Duration</th>\n",
       "      <td>0 days 07:20:00</td>\n",
       "    </tr>\n",
       "    <tr>\n",
       "      <th>Avg. Trade Duration</th>\n",
       "      <td>0 days 02:45:37.500000</td>\n",
       "    </tr>\n",
       "    <tr>\n",
       "      <th>Profit Factor</th>\n",
       "      <td>1.706657</td>\n",
       "    </tr>\n",
       "    <tr>\n",
       "      <th>Expectancy [%]</th>\n",
       "      <td>0.20104</td>\n",
       "    </tr>\n",
       "    <tr>\n",
       "      <th>SQN</th>\n",
       "      <td>0.702284</td>\n",
       "    </tr>\n",
       "    <tr>\n",
       "      <th>Kelly Criterion</th>\n",
       "      <td>0.132001</td>\n",
       "    </tr>\n",
       "  </tbody>\n",
       "</table>\n",
       "</div>"
      ],
      "text/plain": [
       "                                             0\n",
       "Start                      2025-02-24 03:40:00\n",
       "End                        2025-02-25 23:50:00\n",
       "Duration                       1 days 20:10:00\n",
       "Exposure Time [%]                    92.753623\n",
       "Equity Final [$]                  10336.000642\n",
       "Equity Peak [$]                   10607.507855\n",
       "Return [%]                            3.300288\n",
       "Buy & Hold Return [%]                -7.195256\n",
       "Return (Ann.) [%]                   234.935838\n",
       "Volatility (Ann.) [%]                94.263337\n",
       "CAGR [%]                             634.82965\n",
       "Sharpe Ratio                          2.492335\n",
       "Sortino Ratio                         15.10831\n",
       "Calmar Ratio                         90.440487\n",
       "Alpha [%]                            32.941771\n",
       "Beta                                 -0.457033\n",
       "Max. Drawdown [%]                    -2.597684\n",
       "Avg. Drawdown [%]                    -1.138625\n",
       "Max. Drawdown Duration         1 days 18:40:00\n",
       "Avg. Drawdown Duration         0 days 22:43:45\n",
       "# Trades                                    16\n",
       "Win Rate [%]                             31.25\n",
       "Best Trade [%]                        3.081816\n",
       "Worst Trade [%]                      -1.193439\n",
       "Avg. Trade [%]                        0.194686\n",
       "Max. Trade Duration            0 days 07:20:00\n",
       "Avg. Trade Duration     0 days 02:45:37.500000\n",
       "Profit Factor                         1.706657\n",
       "Expectancy [%]                         0.20104\n",
       "SQN                                   0.702284\n",
       "Kelly Criterion                       0.132001"
      ]
     },
     "execution_count": 12,
     "metadata": {},
     "output_type": "execute_result"
    }
   ],
   "source": [
    "# Display full metrics\n",
    "metrics = pd.Series(sma_metrics.metrics)\n",
    "pd.DataFrame(metrics)"
   ]
  },
  {
   "cell_type": "markdown",
   "metadata": {},
   "source": [
    "## Checking the trades"
   ]
  },
  {
   "cell_type": "code",
   "execution_count": 13,
   "metadata": {},
   "outputs": [
    {
     "data": {
      "text/html": [
       "<div>\n",
       "<style scoped>\n",
       "    .dataframe tbody tr th:only-of-type {\n",
       "        vertical-align: middle;\n",
       "    }\n",
       "\n",
       "    .dataframe tbody tr th {\n",
       "        vertical-align: top;\n",
       "    }\n",
       "\n",
       "    .dataframe thead th {\n",
       "        text-align: right;\n",
       "    }\n",
       "</style>\n",
       "<table border=\"1\" class=\"dataframe\">\n",
       "  <thead>\n",
       "    <tr style=\"text-align: right;\">\n",
       "      <th></th>\n",
       "      <th>Size</th>\n",
       "      <th>EntryBar</th>\n",
       "      <th>ExitBar</th>\n",
       "      <th>EntryPrice</th>\n",
       "      <th>ExitPrice</th>\n",
       "      <th>PnL</th>\n",
       "      <th>ReturnPct</th>\n",
       "      <th>EntryTime</th>\n",
       "      <th>ExitTime</th>\n",
       "      <th>Duration</th>\n",
       "    </tr>\n",
       "  </thead>\n",
       "  <tbody>\n",
       "    <tr>\n",
       "      <th>0</th>\n",
       "      <td>-1.0</td>\n",
       "      <td>20</td>\n",
       "      <td>28</td>\n",
       "      <td>95626.41</td>\n",
       "      <td>95791.05</td>\n",
       "      <td>-164.64</td>\n",
       "      <td>-0.001722</td>\n",
       "      <td>2025-02-24 03:40:00</td>\n",
       "      <td>2025-02-24 05:00:00</td>\n",
       "      <td>0 days 01:20:00</td>\n",
       "    </tr>\n",
       "    <tr>\n",
       "      <th>1</th>\n",
       "      <td>1.0</td>\n",
       "      <td>28</td>\n",
       "      <td>32</td>\n",
       "      <td>95791.05</td>\n",
       "      <td>95736.63</td>\n",
       "      <td>-54.42</td>\n",
       "      <td>-0.000568</td>\n",
       "      <td>2025-02-24 05:00:00</td>\n",
       "      <td>2025-02-24 05:40:00</td>\n",
       "      <td>0 days 00:40:00</td>\n",
       "    </tr>\n",
       "    <tr>\n",
       "      <th>2</th>\n",
       "      <td>-1.0</td>\n",
       "      <td>32</td>\n",
       "      <td>42</td>\n",
       "      <td>95736.63</td>\n",
       "      <td>95879.55</td>\n",
       "      <td>-142.92</td>\n",
       "      <td>-0.001493</td>\n",
       "      <td>2025-02-24 05:40:00</td>\n",
       "      <td>2025-02-24 07:20:00</td>\n",
       "      <td>0 days 01:40:00</td>\n",
       "    </tr>\n",
       "    <tr>\n",
       "      <th>3</th>\n",
       "      <td>1.0</td>\n",
       "      <td>42</td>\n",
       "      <td>53</td>\n",
       "      <td>95879.55</td>\n",
       "      <td>95567.36</td>\n",
       "      <td>-312.19</td>\n",
       "      <td>-0.003256</td>\n",
       "      <td>2025-02-24 07:20:00</td>\n",
       "      <td>2025-02-24 09:10:00</td>\n",
       "      <td>0 days 01:50:00</td>\n",
       "    </tr>\n",
       "    <tr>\n",
       "      <th>4</th>\n",
       "      <td>-1.0</td>\n",
       "      <td>53</td>\n",
       "      <td>73</td>\n",
       "      <td>95567.36</td>\n",
       "      <td>95157.86</td>\n",
       "      <td>409.50</td>\n",
       "      <td>0.004285</td>\n",
       "      <td>2025-02-24 09:10:00</td>\n",
       "      <td>2025-02-24 12:30:00</td>\n",
       "      <td>0 days 03:20:00</td>\n",
       "    </tr>\n",
       "    <tr>\n",
       "      <th>5</th>\n",
       "      <td>1.0</td>\n",
       "      <td>73</td>\n",
       "      <td>81</td>\n",
       "      <td>95157.86</td>\n",
       "      <td>94260.39</td>\n",
       "      <td>-897.47</td>\n",
       "      <td>-0.009431</td>\n",
       "      <td>2025-02-24 12:30:00</td>\n",
       "      <td>2025-02-24 14:00:00</td>\n",
       "      <td>0 days 01:30:00</td>\n",
       "    </tr>\n",
       "    <tr>\n",
       "      <th>6</th>\n",
       "      <td>-1.0</td>\n",
       "      <td>81</td>\n",
       "      <td>123</td>\n",
       "      <td>94260.39</td>\n",
       "      <td>92164.12</td>\n",
       "      <td>2096.27</td>\n",
       "      <td>0.022239</td>\n",
       "      <td>2025-02-24 14:00:00</td>\n",
       "      <td>2025-02-24 21:20:00</td>\n",
       "      <td>0 days 07:20:00</td>\n",
       "    </tr>\n",
       "    <tr>\n",
       "      <th>7</th>\n",
       "      <td>1.0</td>\n",
       "      <td>123</td>\n",
       "      <td>137</td>\n",
       "      <td>92164.12</td>\n",
       "      <td>92157.03</td>\n",
       "      <td>-7.09</td>\n",
       "      <td>-0.000077</td>\n",
       "      <td>2025-02-24 21:20:00</td>\n",
       "      <td>2025-02-25 00:10:00</td>\n",
       "      <td>0 days 02:50:00</td>\n",
       "    </tr>\n",
       "    <tr>\n",
       "      <th>8</th>\n",
       "      <td>-1.0</td>\n",
       "      <td>137</td>\n",
       "      <td>179</td>\n",
       "      <td>92157.03</td>\n",
       "      <td>89316.92</td>\n",
       "      <td>2840.11</td>\n",
       "      <td>0.030818</td>\n",
       "      <td>2025-02-25 00:10:00</td>\n",
       "      <td>2025-02-25 07:10:00</td>\n",
       "      <td>0 days 07:00:00</td>\n",
       "    </tr>\n",
       "    <tr>\n",
       "      <th>9</th>\n",
       "      <td>1.0</td>\n",
       "      <td>179</td>\n",
       "      <td>193</td>\n",
       "      <td>89316.92</td>\n",
       "      <td>88531.20</td>\n",
       "      <td>-785.72</td>\n",
       "      <td>-0.008797</td>\n",
       "      <td>2025-02-25 07:10:00</td>\n",
       "      <td>2025-02-25 09:30:00</td>\n",
       "      <td>0 days 02:20:00</td>\n",
       "    </tr>\n",
       "    <tr>\n",
       "      <th>10</th>\n",
       "      <td>-1.0</td>\n",
       "      <td>193</td>\n",
       "      <td>212</td>\n",
       "      <td>88531.20</td>\n",
       "      <td>87041.34</td>\n",
       "      <td>1489.86</td>\n",
       "      <td>0.016829</td>\n",
       "      <td>2025-02-25 09:30:00</td>\n",
       "      <td>2025-02-25 12:40:00</td>\n",
       "      <td>0 days 03:10:00</td>\n",
       "    </tr>\n",
       "    <tr>\n",
       "      <th>11</th>\n",
       "      <td>1.0</td>\n",
       "      <td>212</td>\n",
       "      <td>222</td>\n",
       "      <td>87041.34</td>\n",
       "      <td>86889.24</td>\n",
       "      <td>-152.10</td>\n",
       "      <td>-0.001747</td>\n",
       "      <td>2025-02-25 12:40:00</td>\n",
       "      <td>2025-02-25 14:20:00</td>\n",
       "      <td>0 days 01:40:00</td>\n",
       "    </tr>\n",
       "    <tr>\n",
       "      <th>12</th>\n",
       "      <td>-1.0</td>\n",
       "      <td>222</td>\n",
       "      <td>226</td>\n",
       "      <td>86889.24</td>\n",
       "      <td>87926.21</td>\n",
       "      <td>-1036.97</td>\n",
       "      <td>-0.011934</td>\n",
       "      <td>2025-02-25 14:20:00</td>\n",
       "      <td>2025-02-25 15:00:00</td>\n",
       "      <td>0 days 00:40:00</td>\n",
       "    </tr>\n",
       "    <tr>\n",
       "      <th>13</th>\n",
       "      <td>1.0</td>\n",
       "      <td>226</td>\n",
       "      <td>252</td>\n",
       "      <td>87926.21</td>\n",
       "      <td>88235.23</td>\n",
       "      <td>309.02</td>\n",
       "      <td>0.003515</td>\n",
       "      <td>2025-02-25 15:00:00</td>\n",
       "      <td>2025-02-25 19:30:00</td>\n",
       "      <td>0 days 04:30:00</td>\n",
       "    </tr>\n",
       "    <tr>\n",
       "      <th>14</th>\n",
       "      <td>-1.0</td>\n",
       "      <td>252</td>\n",
       "      <td>263</td>\n",
       "      <td>88235.23</td>\n",
       "      <td>88751.53</td>\n",
       "      <td>-516.30</td>\n",
       "      <td>-0.005851</td>\n",
       "      <td>2025-02-25 19:30:00</td>\n",
       "      <td>2025-02-25 21:40:00</td>\n",
       "      <td>0 days 02:10:00</td>\n",
       "    </tr>\n",
       "    <tr>\n",
       "      <th>15</th>\n",
       "      <td>1.0</td>\n",
       "      <td>263</td>\n",
       "      <td>275</td>\n",
       "      <td>88751.53</td>\n",
       "      <td>88694.57</td>\n",
       "      <td>-56.96</td>\n",
       "      <td>-0.000642</td>\n",
       "      <td>2025-02-25 21:40:00</td>\n",
       "      <td>2025-02-25 23:50:00</td>\n",
       "      <td>0 days 02:10:00</td>\n",
       "    </tr>\n",
       "  </tbody>\n",
       "</table>\n",
       "</div>"
      ],
      "text/plain": [
       "    Size  EntryBar  ExitBar  EntryPrice  ExitPrice      PnL  ReturnPct  \\\n",
       "0   -1.0        20       28    95626.41   95791.05  -164.64  -0.001722   \n",
       "1    1.0        28       32    95791.05   95736.63   -54.42  -0.000568   \n",
       "2   -1.0        32       42    95736.63   95879.55  -142.92  -0.001493   \n",
       "3    1.0        42       53    95879.55   95567.36  -312.19  -0.003256   \n",
       "4   -1.0        53       73    95567.36   95157.86   409.50   0.004285   \n",
       "5    1.0        73       81    95157.86   94260.39  -897.47  -0.009431   \n",
       "6   -1.0        81      123    94260.39   92164.12  2096.27   0.022239   \n",
       "7    1.0       123      137    92164.12   92157.03    -7.09  -0.000077   \n",
       "8   -1.0       137      179    92157.03   89316.92  2840.11   0.030818   \n",
       "9    1.0       179      193    89316.92   88531.20  -785.72  -0.008797   \n",
       "10  -1.0       193      212    88531.20   87041.34  1489.86   0.016829   \n",
       "11   1.0       212      222    87041.34   86889.24  -152.10  -0.001747   \n",
       "12  -1.0       222      226    86889.24   87926.21 -1036.97  -0.011934   \n",
       "13   1.0       226      252    87926.21   88235.23   309.02   0.003515   \n",
       "14  -1.0       252      263    88235.23   88751.53  -516.30  -0.005851   \n",
       "15   1.0       263      275    88751.53   88694.57   -56.96  -0.000642   \n",
       "\n",
       "             EntryTime            ExitTime        Duration  \n",
       "0  2025-02-24 03:40:00 2025-02-24 05:00:00 0 days 01:20:00  \n",
       "1  2025-02-24 05:00:00 2025-02-24 05:40:00 0 days 00:40:00  \n",
       "2  2025-02-24 05:40:00 2025-02-24 07:20:00 0 days 01:40:00  \n",
       "3  2025-02-24 07:20:00 2025-02-24 09:10:00 0 days 01:50:00  \n",
       "4  2025-02-24 09:10:00 2025-02-24 12:30:00 0 days 03:20:00  \n",
       "5  2025-02-24 12:30:00 2025-02-24 14:00:00 0 days 01:30:00  \n",
       "6  2025-02-24 14:00:00 2025-02-24 21:20:00 0 days 07:20:00  \n",
       "7  2025-02-24 21:20:00 2025-02-25 00:10:00 0 days 02:50:00  \n",
       "8  2025-02-25 00:10:00 2025-02-25 07:10:00 0 days 07:00:00  \n",
       "9  2025-02-25 07:10:00 2025-02-25 09:30:00 0 days 02:20:00  \n",
       "10 2025-02-25 09:30:00 2025-02-25 12:40:00 0 days 03:10:00  \n",
       "11 2025-02-25 12:40:00 2025-02-25 14:20:00 0 days 01:40:00  \n",
       "12 2025-02-25 14:20:00 2025-02-25 15:00:00 0 days 00:40:00  \n",
       "13 2025-02-25 15:00:00 2025-02-25 19:30:00 0 days 04:30:00  \n",
       "14 2025-02-25 19:30:00 2025-02-25 21:40:00 0 days 02:10:00  \n",
       "15 2025-02-25 21:40:00 2025-02-25 23:50:00 0 days 02:10:00  "
      ]
     },
     "execution_count": 13,
     "metadata": {},
     "output_type": "execute_result"
    }
   ],
   "source": [
    "pd.DataFrame(sma_trades.df)"
   ]
  },
  {
   "cell_type": "code",
   "execution_count": null,
   "metadata": {},
   "outputs": [],
   "source": []
  }
 ],
 "metadata": {
  "kernelspec": {
   "display_name": "ai-trading",
   "language": "python",
   "name": "python3"
  },
  "language_info": {
   "codemirror_mode": {
    "name": "ipython",
    "version": 3
   },
   "file_extension": ".py",
   "mimetype": "text/x-python",
   "name": "python",
   "nbconvert_exporter": "python",
   "pygments_lexer": "ipython3",
   "version": "3.10.16"
  }
 },
 "nbformat": 4,
 "nbformat_minor": 2
}
